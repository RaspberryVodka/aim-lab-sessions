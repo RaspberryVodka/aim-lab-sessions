{
 "cells": [
  {
   "cell_type": "code",
   "execution_count": 3,
   "id": "243b14da",
   "metadata": {},
   "outputs": [],
   "source": [
    "from vars.week_3 import *\n",
    "from vars.week_4 import *\n",
    "from vars.week_5 import *\n",
    "from vars.week_6 import *"
   ]
  },
  {
   "cell_type": "code",
   "execution_count": 12,
   "id": "a9667d61",
   "metadata": {},
   "outputs": [],
   "source": [
    "import pytorch_lightning as pl\n",
    "from pytorch_lightning.callbacks.early_stopping import EarlyStopping\n",
    "from pytorch_lightning.callbacks import ModelCheckpoint"
   ]
  },
  {
   "cell_type": "code",
   "execution_count": 14,
   "id": "3690a403",
   "metadata": {},
   "outputs": [
    {
     "name": "stderr",
     "output_type": "stream",
     "text": [
      "Using 16bit native Automatic Mixed Precision (AMP)\n",
      "GPU available: True (cuda), used: True\n",
      "TPU available: False, using: 0 TPU cores\n",
      "IPU available: False, using: 0 IPUs\n",
      "HPU available: False, using: 0 HPUs\n"
     ]
    },
    {
     "ename": "NameError",
     "evalue": "name 'train_loader' is not defined",
     "output_type": "error",
     "traceback": [
      "\u001b[0;31m---------------------------------------------------------------------------\u001b[0m",
      "\u001b[0;31mNameError\u001b[0m                                 Traceback (most recent call last)",
      "Input \u001b[0;32mIn [14]\u001b[0m, in \u001b[0;36m<cell line: 44>\u001b[0;34m()\u001b[0m\n\u001b[1;32m     37\u001b[0m \u001b[38;5;66;03m# train\u001b[39;00m\n\u001b[1;32m     38\u001b[0m trainer \u001b[38;5;241m=\u001b[39m pl\u001b[38;5;241m.\u001b[39mTrainer(accelerator\u001b[38;5;241m=\u001b[39m\u001b[38;5;124m'\u001b[39m\u001b[38;5;124mgpu\u001b[39m\u001b[38;5;124m'\u001b[39m, \n\u001b[1;32m     39\u001b[0m                      devices\u001b[38;5;241m=\u001b[39m\u001b[38;5;241m1\u001b[39m, \n\u001b[1;32m     40\u001b[0m                      precision\u001b[38;5;241m=\u001b[39m\u001b[38;5;241m16\u001b[39m, \n\u001b[1;32m     41\u001b[0m                      limit_train_batches\u001b[38;5;241m=\u001b[39m\u001b[38;5;241m0.5\u001b[39m, \n\u001b[1;32m     42\u001b[0m                      callbacks\u001b[38;5;241m=\u001b[39m[early_stop_callback,\n\u001b[1;32m     43\u001b[0m                                 checkpoint_callback]) \n\u001b[0;32m---> 44\u001b[0m trainer\u001b[38;5;241m.\u001b[39mfit(model, \u001b[43mtrain_loader\u001b[49m, val_loader)\n",
      "\u001b[0;31mNameError\u001b[0m: name 'train_loader' is not defined"
     ]
    }
   ],
   "source": [
    "class PlResNet(pl.LightningModule):\n",
    "    def __init__(self):\n",
    "        super().__init__()\n",
    "        # model arch goes here\n",
    "        \n",
    "    def forward(self, x):\n",
    "        pass # returns ouptut embedding\n",
    "    \n",
    "    def configure_optimizers(self):\n",
    "        pass # returns optimizers\n",
    "    \n",
    "    def training_step(self, train_batch, batch_idx):\n",
    "        pass # returns loss\n",
    "    \n",
    "    def validation_step(self, val_batch, batch_idx):\n",
    "        pass # returns void\n",
    "    \n",
    "\n",
    "# load data\n",
    "\n",
    "model = PlResNet()\n",
    "\n",
    "# define callbacks\n",
    "# saves last-K checkpoints based on \"global_step\" metric\n",
    "# make sure you log it inside your LightningModule\n",
    "checkpoint_callback = ModelCheckpoint(save_top_k=10,\n",
    "                                      monitor=\"val_loss\",\n",
    "                                      mode=\"min\",\n",
    "                                      dirpath=\"my/path/\",\n",
    "                                      filename=\"mnist-{epoch:02d}-{val_loss:.2f}\")\n",
    "early_stop_callback = EarlyStopping(monitor=\"val_accuracy\", \n",
    "                                    min_delta=0.00, \n",
    "                                    patience=3, \n",
    "                                    verbose=False, \n",
    "                                    mode=\"max\")\n",
    "\n",
    "# train\n",
    "trainer = pl.Trainer(accelerator='gpu', \n",
    "                     devices=1, \n",
    "                     precision=16, \n",
    "                     limit_train_batches=0.5, \n",
    "                     callbacks=[early_stop_callback,\n",
    "                                checkpoint_callback]) \n",
    "trainer.fit(model, train_loader, val_loader)"
   ]
  }
 ],
 "metadata": {
  "kernelspec": {
   "display_name": "Python 3 (ipykernel)",
   "language": "python",
   "name": "python3"
  },
  "language_info": {
   "codemirror_mode": {
    "name": "ipython",
    "version": 3
   },
   "file_extension": ".py",
   "mimetype": "text/x-python",
   "name": "python",
   "nbconvert_exporter": "python",
   "pygments_lexer": "ipython3",
   "version": "3.8.10"
  }
 },
 "nbformat": 4,
 "nbformat_minor": 5
}
