{
 "cells": [
  {
   "cell_type": "markdown",
   "id": "4d2c698f",
   "metadata": {},
   "source": [
    "# 1. Numpy \n",
    "Numpy is a powerful Python module that should be in the toolbelt of any AI/Deep learning practitioner. It provides functions and data strutctures that allow fast, efficient manipulation of mathematical structures like matrices and vectors. It represents these structures internally using Numpy arrays, which are like Python Lists, but highly optimised for calculations on large amounts of numerical data. Let's import this module now."
   ]
  },
  {
   "cell_type": "code",
   "execution_count": 1,
   "id": "a352c02e",
   "metadata": {},
   "outputs": [],
   "source": [
    "import math\n",
    "import numpy as np"
   ]
  },
  {
   "cell_type": "markdown",
   "id": "fe0a2fda",
   "metadata": {},
   "source": [
    "### 1.1.1 Array creation\n",
    "Numpy arrays can be created in a few different ways. Common ones are:\n",
    "1. Instantiated using values from a normal Python list\n",
    "2. Filled with sequential values upto a target number\n",
    "3. Filled with random values (various random distributions available) - see https://numpy.org/doc/stable/reference/random/index.html\n"
   ]
  },
  {
   "cell_type": "code",
   "execution_count": 2,
   "id": "cc36ef32",
   "metadata": {},
   "outputs": [
    {
     "name": "stdout",
     "output_type": "stream",
     "text": [
      "[  2   4   8  16  32  64 128]\n"
     ]
    }
   ],
   "source": [
    "#Array creation from python list\n",
    "python_list = [2, 4, 8, 16, 32, 64, 128]\n",
    "A = np.array(python_list)  \n",
    "print(A)"
   ]
  },
  {
   "cell_type": "code",
   "execution_count": 3,
   "id": "0ccacf1d",
   "metadata": {},
   "outputs": [
    {
     "name": "stdout",
     "output_type": "stream",
     "text": [
      "[0 1 2 3 4 5 6 7 8 9]\n"
     ]
    }
   ],
   "source": [
    "#Array creation with sequential values \n",
    "N = 10\n",
    "A = np.arange(N)\n",
    "print(A)"
   ]
  },
  {
   "cell_type": "code",
   "execution_count": 4,
   "id": "3b4a7775",
   "metadata": {},
   "outputs": [
    {
     "name": "stdout",
     "output_type": "stream",
     "text": [
      "[0.24880004 0.02447429 0.24282557 0.74215469 0.18323095 0.39301984\n",
      " 0.99930505 0.2534059  0.94277456 0.49833895]\n"
     ]
    }
   ],
   "source": [
    "#Array creation with random values \n",
    "A = np.random.rand(N)  # returns an array filled with N random floats between 0 and 1\n",
    "print(A)"
   ]
  },
  {
   "cell_type": "markdown",
   "id": "e92f617f",
   "metadata": {},
   "source": [
    "### 1.1.2 Reshaping arrays\n",
    "\n",
    "One of the many things that set Numpy arrays apart from Python lists is their `reshape` method. This allows you to define the number of dimensions that the structure represented by the array has. For example, the array `A` that we have just defined is just a flat list of numbers at the moment. `reshape` helps us represent it as a 2D data structure (a matrix). Keep in mind that the shape that you put into this method must agree with the number of elements in the array. In our example, the array has 10 elements, so acceptable shapes include:\n",
    "* 5, 2\n",
    "* 2, 5\n",
    "* 1, 10\n",
    "* 10, 1"
   ]
  },
  {
   "cell_type": "code",
   "execution_count": 5,
   "id": "e5e2f39c",
   "metadata": {},
   "outputs": [
    {
     "name": "stdout",
     "output_type": "stream",
     "text": [
      "[[0.24880004 0.02447429]\n",
      " [0.24282557 0.74215469]\n",
      " [0.18323095 0.39301984]\n",
      " [0.99930505 0.2534059 ]\n",
      " [0.94277456 0.49833895]]\n",
      "A shape: (5, 2)\n"
     ]
    }
   ],
   "source": [
    "A = A.reshape(5,2)\n",
    "print(A)\n",
    "print(f\"A shape: {A.shape}\")"
   ]
  },
  {
   "cell_type": "code",
   "execution_count": 6,
   "id": "9cfbb669",
   "metadata": {},
   "outputs": [
    {
     "name": "stdout",
     "output_type": "stream",
     "text": [
      "[ 0  1  2  3  4  5  6  7  8  9 10 11 12 13 14 15 16 17 18 19]\n"
     ]
    }
   ],
   "source": [
    "B = np.arange(2*N)\n",
    "print(B)"
   ]
  },
  {
   "cell_type": "code",
   "execution_count": 7,
   "id": "440acb3f",
   "metadata": {},
   "outputs": [
    {
     "name": "stdout",
     "output_type": "stream",
     "text": [
      "[[ 0  1  2  3  4  5  6  7  8  9]\n",
      " [10 11 12 13 14 15 16 17 18 19]]\n",
      "B shape: (2, 10)\n"
     ]
    }
   ],
   "source": [
    "B = B.reshape(2,10)\n",
    "print(B)\n",
    "print(f\"B shape: {B.shape}\")"
   ]
  },
  {
   "cell_type": "markdown",
   "id": "e3e3ea19",
   "metadata": {},
   "source": [
    "## 1.2 Array operations\n",
    "Once you have created an array, there are various operations you may want to perform on them. We'll go through some of the most common ones in the next few cells.\n",
    "\n",
    "### 1.2.1 Binary operators\n",
    "Similar to normal counting numbers, Numpy arrays can be used as arguments to binary arithmetic operators like `*` (multiplication), `+` (addition), `-`(subtraction) and `/`(division). However, these can only be applied to arrays under certain conditions:\n",
    "1. The arrays have the same shape, OR\n",
    "2. The operation is between an array and a scalar, OR\n",
    "3. The operations is between 2 arrays of different shapes that can be \"broadcast\" together - more on this later\n",
    "\n",
    "These operations are applied **element-wise** meaning each element in the array is combined with its corresponding element at the same position in the other array"
   ]
  },
  {
   "cell_type": "code",
   "execution_count": 8,
   "id": "d630c356",
   "metadata": {},
   "outputs": [
    {
     "name": "stdout",
     "output_type": "stream",
     "text": [
      "[[11.24880004 11.02447429]\n",
      " [11.24282557 11.74215469]\n",
      " [11.18323095 11.39301984]\n",
      " [11.99930505 11.2534059 ]\n",
      " [11.94277456 11.49833895]]\n"
     ]
    }
   ],
   "source": [
    "# Addition with a scalar\n",
    "A1 = np.arange(N).reshape(A.shape)\n",
    "C = 11 + A \n",
    "print(C)"
   ]
  },
  {
   "cell_type": "code",
   "execution_count": 9,
   "id": "b729a52e",
   "metadata": {},
   "outputs": [
    {
     "name": "stdout",
     "output_type": "stream",
     "text": [
      "[[-0.24880004  0.97552571]\n",
      " [ 1.75717443  2.25784531]\n",
      " [ 3.81676905  4.60698016]\n",
      " [ 5.00069495  6.7465941 ]\n",
      " [ 7.05722544  8.50166105]]\n"
     ]
    }
   ],
   "source": [
    "# Subtraction with another array of same shape\n",
    "C = A1 - A \n",
    "print(C)"
   ]
  },
  {
   "cell_type": "code",
   "execution_count": 10,
   "id": "d3454d04",
   "metadata": {},
   "outputs": [
    {
     "name": "stdout",
     "output_type": "stream",
     "text": [
      "[[0.         0.02447429]\n",
      " [0.48565115 2.22646407]\n",
      " [0.7329238  1.9650992 ]\n",
      " [5.99583027 1.77384127]\n",
      " [7.54219651 4.48505057]]\n"
     ]
    }
   ],
   "source": [
    "# Multiplication with another array of same shape\n",
    "C = A1 * A \n",
    "print(C)"
   ]
  },
  {
   "cell_type": "code",
   "execution_count": 11,
   "id": "9ae00ef0",
   "metadata": {},
   "outputs": [
    {
     "name": "stdout",
     "output_type": "stream",
     "text": [
      "[[ 44.21221087 449.4512959 ]\n",
      " [ 45.30000629  14.82170788]\n",
      " [ 60.03352595  27.98840894]\n",
      " [ 11.00764982  43.40861897]\n",
      " [ 11.66768857  22.07332971]]\n"
     ]
    }
   ],
   "source": [
    "# Division by a scalar\n",
    "C = 11 / A \n",
    "print(C)"
   ]
  },
  {
   "cell_type": "markdown",
   "id": "2e285677",
   "metadata": {},
   "source": [
    "### 1.2.2 Broadcasting\n",
    "As long as an array's dimensions are compatible with their counterparts in the other array, they can be \"broadcasted\" together. This means that numpy will 'strectch' the smaller dimension along its axis so that element-wise operations can be applied between them. In general, 2 arrays can be broadcast together if each dimension in one array is compatible with its counterpart in the other array. Dimensions are compatible if they are equal or one of them is equal to 1. The dimension of size 1 is expanded to fit the size of its counterpart [https://numpy.org/doc/stable/user/basics.broadcasting.html]"
   ]
  },
  {
   "cell_type": "code",
   "execution_count": 12,
   "id": "be491c00",
   "metadata": {},
   "outputs": [
    {
     "name": "stdout",
     "output_type": "stream",
     "text": [
      "[[0]\n",
      " [1]\n",
      " [2]\n",
      " [3]\n",
      " [4]] (5, 1)\n",
      "[[0.24880004 0.02447429]\n",
      " [1.24282557 1.74215469]\n",
      " [2.18323095 2.39301984]\n",
      " [3.99930505 3.2534059 ]\n",
      " [4.94277456 4.49833895]] (5, 2)\n"
     ]
    }
   ],
   "source": [
    "\n",
    "A2 = np.arange(5).reshape(5,1)\n",
    "print(A2, A2.shape)  \n",
    "\n",
    "# A2 has shape (5, 1) so it can be broadcast to shape (5, 2) along A's horizontal axis\n",
    "# it's as if A2 has been copied along the horizontal axis so that it can be added to A\n",
    "D = A + A2\n",
    "print(D, D.shape)"
   ]
  },
  {
   "cell_type": "code",
   "execution_count": 13,
   "id": "8af7f502",
   "metadata": {},
   "outputs": [
    {
     "name": "stdout",
     "output_type": "stream",
     "text": [
      "[[0 1]] (1, 2)\n",
      "[[0.         0.02447429]\n",
      " [0.         0.74215469]\n",
      " [0.         0.39301984]\n",
      " [0.         0.2534059 ]\n",
      " [0.         0.49833895]] (5, 2)\n"
     ]
    }
   ],
   "source": [
    "# Similarly, we can also broadcast an array of shape (1, 2) along A's vertical axis\n",
    "A3 = np.arange(2).reshape(1,2)\n",
    "print(A3, A3.shape)\n",
    "\n",
    "E = A * A3\n",
    "print(E, E.shape)\n",
    "\n",
    "\n"
   ]
  },
  {
   "cell_type": "markdown",
   "id": "5cfde7f5",
   "metadata": {},
   "source": [
    "### 1.2.3 Array products\n",
    "Contrary to the `*` operator, which performs element-wise multiplication between the arrays, `np.dot` and `np.matmul` are the dot and matrix products, respectively, of the arrays."
   ]
  },
  {
   "cell_type": "code",
   "execution_count": 14,
   "id": "4a8b3147",
   "metadata": {},
   "outputs": [
    {
     "name": "stdout",
     "output_type": "stream",
     "text": [
      "[[ 0.24474287  0.5180172   0.79129153  1.06456586  1.33784019  1.61111452\n",
      "   1.88438885  2.15766319  2.43093752  2.70421185]\n",
      " [ 7.42154689  8.40652715  9.39150741 10.37648767 11.36146794 12.3464482\n",
      "  13.33142846 14.31640872 15.30138898 16.28636925]\n",
      " [ 3.9301984   4.50644919  5.08269998  5.65895077  6.23520156  6.81145235\n",
      "   7.38770314  7.96395393  8.54020472  9.11645551]\n",
      " [ 2.53405896  3.7867699   5.03948085  6.29219179  7.54490273  8.79761367\n",
      "  10.05032461 11.30303555 12.55574649 13.80845744]\n",
      " [ 4.98338952  6.42450304  7.86561655  9.30673007 10.74784359 12.1889571\n",
      "  13.63007062 15.07118413 16.51229765 17.95341116]]\n",
      "F_1 shape: (5, 10)\n",
      "F_1, F_2 and F_3 are  equal!\n"
     ]
    }
   ],
   "source": [
    "# The @ operator is always equivalent to np.matmul. When working with 2D arrays, np.matmul and np.dot are equivalent. We can show this:\n",
    "F_1 = A @ B\n",
    "F_2 = np.matmul(A, B)\n",
    "F_3 = np.dot(A, B)\n",
    "print(F_1)\n",
    "print(f\"F_1 shape: {F_1.shape}\")\n",
    "print(f\"F_1, F_2 and F_3 are { '' if np.array_equal(F_1, F_2) and np.array_equal(F_2, F_3) else 'not' } equal!\")"
   ]
  },
  {
   "cell_type": "markdown",
   "id": "5f4be63d",
   "metadata": {},
   "source": [
    "## 1.3 Functions\n",
    "Another useful thing we might want to do with an array is to apply a function to each element. Generally speaking, it is best to use the built-in Numpy functions to work on numpy arrays instead of defining your own. This is because Numpy functions are highly optimised for speed, which is important when working with large amounts of data. Chances are, whatever kind of mathematical operation you want to perform on a Numpy array is already built in. See below for a full list:  \n",
    "https://numpy.org/doc/stable/reference/routines.math.html  \n",
    "\n",
    "### 1.3.1 Element-wise functions\n",
    "Common uses are applying trig functions to an array of values:"
   ]
  },
  {
   "cell_type": "code",
   "execution_count": 15,
   "id": "0d99a1ba",
   "metadata": {},
   "outputs": [
    {
     "data": {
      "image/png": "[encoded data removed]",
      "text/plain": [
       "<Figure size 640x480 with 1 Axes>"
      ]
     },
     "metadata": {},
     "output_type": "display_data"
    },
    {
     "data": {
      "image/png": "[encoded data removed]",
      "text/plain": [
       "<Figure size 640x480 with 1 Axes>"
      ]
     },
     "metadata": {},
     "output_type": "display_data"
    }
   ],
   "source": [
    "import matplotlib.pyplot as plt\n",
    "\n",
    "# Element-wise functions: \n",
    "G = np.arange(0, 2*np.pi, 0.2)\n",
    "H = np.sin(G)\n",
    "plt.plot(G, H)\n",
    "plt.suptitle(\"sin(G)\")\n",
    "plt.show()\n",
    "\n",
    "H_1 = np.exp(G)\n",
    "plt.plot(G, H_1)\n",
    "plt.suptitle(\"exp(G)\")\n",
    "plt.show()\n"
   ]
  },
  {
   "cell_type": "markdown",
   "id": "abc97f70",
   "metadata": {},
   "source": [
    "### 1.3.2 Reduce functions\n",
    "These are applied along the selected axis, consume all the elements and reduce the axis down to 1 element. If no axis is specified, the function is applied to the whole array, and reduces it to a scalar"
   ]
  },
  {
   "cell_type": "code",
   "execution_count": 16,
   "id": "5d79e457",
   "metadata": {},
   "outputs": [
    {
     "name": "stdout",
     "output_type": "stream",
     "text": [
      "[[0.24880004 0.02447429]\n",
      " [0.24282557 0.74215469]\n",
      " [0.18323095 0.39301984]\n",
      " [0.99930505 0.2534059 ]\n",
      " [0.94277456 0.49833895]]\n",
      "Maximum value in A: \n",
      "0.9993050450677171\n",
      "Average of each column in A: \n",
      "[[0.52338724 0.38227873]]\n",
      "Minimum value in each row in A: \n",
      "[[0.02447429]\n",
      " [0.24282557]\n",
      " [0.18323095]\n",
      " [0.2534059 ]\n",
      " [0.49833895]]\n"
     ]
    }
   ],
   "source": [
    "print(A)\n",
    "\n",
    "I = A.max()\n",
    "print(f\"Maximum value in A: \\n{I}\")\n",
    "\n",
    "I_2 = np.mean(A, axis=0, keepdims=True)  # keepdims is needed to preserve the original shape of the axis\n",
    "print(f\"Average of each column in A: \\n{I_2}\")\n",
    "\n",
    "I_3 = A.min(axis=1, keepdims=True) \n",
    "print(f\"Minimum value in each row in A: \\n{I_3}\")\n"
   ]
  },
  {
   "cell_type": "markdown",
   "id": "1e67bef4",
   "metadata": {},
   "source": [
    "## 1.4 Practical example\n",
    "\n",
    "Putting everything together for a practical example, and visulalise the output of some Numpy operations"
   ]
  },
  {
   "cell_type": "code",
   "execution_count": 17,
   "id": "053dfac8",
   "metadata": {},
   "outputs": [],
   "source": [
    "# Defining some helper functions\n",
    "def plot_point(point):\n",
    "    plt.rcParams[\"figure.figsize\"] = [3.50, 3.50]\n",
    "    plt.rcParams[\"figure.autolayout\"] = True\n",
    "    x = point[0]\n",
    "    y = point[1]\n",
    "    \n",
    "    lims = 3\n",
    "    fig = plt.figure()\n",
    "    ax = fig.add_subplot(111)\n",
    "    plt.xlim(-lims, lims)\n",
    "    plt.ylim(-lims, lims)\n",
    "    plt.grid()\n",
    "    ax.plot(x, y, marker=\"o\", markersize=7, markeredgecolor=\"black\", markerfacecolor=\"red\")\n",
    "    ax.spines['left'].set_position('zero')\n",
    "    ax.spines['right'].set_color('none')\n",
    "    ax.spines['bottom'].set_position('zero')\n",
    "    ax.spines['top'].set_color('none')\n",
    "    plt.show()\n",
    "\n",
    "\n",
    "\n",
    "# This function returns an np array that describes a 2d rotation \n",
    "# matrix [https://www1.udel.edu/biology/rosewc/kaap686/notes/matrices_rotations.pdf]. \n",
    "# These kinds of structures are often used in computer graphics to rotate and translate points in space\n",
    "def get_rot_clockwise_matrix(angle):\n",
    "    return np.array([\n",
    "        [ math.cos(angle), math.sin(angle)],\n",
    "        [-math.sin(angle), math.cos(angle)]\n",
    "    ])"
   ]
  },
  {
   "cell_type": "code",
   "execution_count": 18,
   "id": "e5bedc69",
   "metadata": {},
   "outputs": [
    {
     "data": {
      "image/png": "[encoded data removed]",
      "text/plain": [
       "<Figure size 350x350 with 1 Axes>"
      ]
     },
     "metadata": {},
     "output_type": "display_data"
    }
   ],
   "source": [
    "# Define a 2d point p to be a numpy array that holds the co-ordinates 1, 1\n",
    "N = 2\n",
    "p = np.random.rand(2) # random 2-element array\n",
    "p = 2 * p              # scale array using scalar multiplication\n",
    "p = p.reshape(2, 1)    # reshape it into a 2x1 matrix\n",
    "plot_point(p)"
   ]
  },
  {
   "cell_type": "code",
   "execution_count": 19,
   "id": "1937533d",
   "metadata": {},
   "outputs": [
    {
     "name": "stdout",
     "output_type": "stream",
     "text": [
      "113.56060698955964\n"
     ]
    },
    {
     "data": {
      "image/png": "[encoded data removed]",
      "text/plain": [
       "<Figure size 350x350 with 1 Axes>"
      ]
     },
     "metadata": {},
     "output_type": "display_data"
    }
   ],
   "source": [
    "# Define maximum and minimum rotation angles in radians - there are 360 degrees in 2*pi radians\n",
    "min_angle = math.pi/2 # 90 degrees\n",
    "max_angle = math.pi   # 180 degrees\n",
    "\n",
    "angle = np.random.uniform(min_angle, max_angle) # get a random angle between the two we just defined\n",
    "print(angle * 180 / math.pi) # print the angle in degrees so we can see if it's roughly correct\n",
    "# Get the matrix (numpy array) for a clockwise rotation\n",
    "rot90 = get_rot_clockwise_matrix(angle)\n",
    "\n",
    "# Perform the multiplication and plot!\n",
    "p = rot90 @ p\n",
    "plot_point(p)\n"
   ]
  },
  {
   "cell_type": "code",
   "execution_count": 20,
   "id": "65e93aeb",
   "metadata": {},
   "outputs": [
    {
     "data": {
      "image/png": "[encoded data removed]",
      "text/plain": [
       "<Figure size 350x350 with 1 Axes>"
      ]
     },
     "metadata": {},
     "output_type": "display_data"
    }
   ],
   "source": [
    "# Translate the position by some arbitrary amount\n",
    "\n",
    "translation = np.array([-2, 1]).reshape(2, 1)\n",
    "p = p + translation # transpose the array so it can be broadcast to the point array's shape\n",
    "\n",
    "plot_point(p)"
   ]
  }
 ],
 "metadata": {
  "kernelspec": {
   "display_name": "Python 3 (ipykernel)",
   "language": "python",
   "name": "python3"
  },
  "language_info": {
   "codemirror_mode": {
    "name": "ipython",
    "version": 3
   },
   "file_extension": ".py",
   "mimetype": "text/x-python",
   "name": "python",
   "nbconvert_exporter": "python",
   "pygments_lexer": "ipython3",
   "version": "3.8.10"
  }
 },
 "nbformat": 4,
 "nbformat_minor": 5
}
