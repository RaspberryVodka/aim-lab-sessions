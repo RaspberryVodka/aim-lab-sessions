{
 "cells": [
  {
   "cell_type": "markdown",
   "id": "4d2c698f",
   "metadata": {},
   "source": [
    "# Numpy \n",
    "Numpy is a powerful Python module that should be in the toolbelt of any AI/Deep learning practitioner. It provides functions and data strutctures that allow fast, efficient manipulation of mathematical structures like matrices and vectors. It represents these structures internally using Numpy arrays, which are like Python Lists, but highly optimised for calculations on large amounts of numerical data. Let's import this module now."
   ]
  },
  {
   "cell_type": "code",
   "execution_count": 3,
   "id": "a352c02e",
   "metadata": {},
   "outputs": [],
   "source": [
    "import math\n",
    "import numpy as np"
   ]
  },
  {
   "cell_type": "markdown",
   "id": "fe0a2fda",
   "metadata": {},
   "source": [
    "## Array creation\n",
    "Numpy arrays can be created in a few different ways. Common ones are:\n",
    "1. Instantiated using values from a normal Python list\n",
    "2. Filled with sequential values upto a target number\n",
    "3. Filled with random values (various random distributions available) - see https://numpy.org/doc/stable/reference/random/index.html\n"
   ]
  },
  {
   "cell_type": "code",
   "execution_count": 4,
   "id": "cc36ef32",
   "metadata": {},
   "outputs": [
    {
     "name": "stdout",
     "output_type": "stream",
     "text": [
      "[  2   4   8  16  32  64 128]\n"
     ]
    }
   ],
   "source": [
    "#Array creation from python list\n",
    "python_list = [2, 4, 8, 16, 32, 64, 128]\n",
    "A = np.array(python_list)  \n",
    "print(A)"
   ]
  },
  {
   "cell_type": "code",
   "execution_count": 5,
   "id": "0ccacf1d",
   "metadata": {},
   "outputs": [
    {
     "name": "stdout",
     "output_type": "stream",
     "text": [
      "[0 1 2 3 4 5 6 7 8 9]\n"
     ]
    }
   ],
   "source": [
    "#Array creation with sequential values \n",
    "N = 10\n",
    "A = np.arange(N)\n",
    "print(A)"
   ]
  },
  {
   "cell_type": "code",
   "execution_count": 6,
   "id": "3b4a7775",
   "metadata": {},
   "outputs": [
    {
     "name": "stdout",
     "output_type": "stream",
     "text": [
      "[0.64123222 0.56527159 0.39272594 0.36787738 0.49424199 0.02394084\n",
      " 0.76679433 0.71433951 0.14452335 0.21376005]\n"
     ]
    }
   ],
   "source": [
    "#Array creation with random values \n",
    "A = np.random.rand(N)  # returns an array filled with N random floats between 0 and 1\n",
    "print(A)"
   ]
  },
  {
   "cell_type": "markdown",
   "id": "e92f617f",
   "metadata": {},
   "source": [
    "## Reshaping arrays\n",
    "\n",
    "One of the many things that set Numpy arrays apart from Python lists is their `reshape` method. This allows you to define the number of dimensions that the structure represented by the array has. For example, the array `A` that we have just defined is just a flat list of numbers at the moment. `reshape` helps us represent it as a 2D data structure (a matrix). Keep in mind that the shape that you put into this method must agree with the number of elements in the array. In our example, the array has 10 elements, so acceptable shapes include:\n",
    "* 5, 2\n",
    "* 2, 5\n",
    "* 1, 10\n",
    "* 10, 1"
   ]
  },
  {
   "cell_type": "code",
   "execution_count": 7,
   "id": "e5e2f39c",
   "metadata": {},
   "outputs": [
    {
     "name": "stdout",
     "output_type": "stream",
     "text": [
      "[[0.64123222 0.56527159]\n",
      " [0.39272594 0.36787738]\n",
      " [0.49424199 0.02394084]\n",
      " [0.76679433 0.71433951]\n",
      " [0.14452335 0.21376005]]\n",
      "A shape: (5, 2)\n"
     ]
    }
   ],
   "source": [
    "A = A.reshape(5,2)\n",
    "print(A)\n",
    "print(f\"A shape: {A.shape}\")"
   ]
  },
  {
   "cell_type": "code",
   "execution_count": 8,
   "id": "9cfbb669",
   "metadata": {},
   "outputs": [
    {
     "name": "stdout",
     "output_type": "stream",
     "text": [
      "[ 0  1  2  3  4  5  6  7  8  9 10 11 12 13 14 15 16 17 18 19]\n"
     ]
    }
   ],
   "source": [
    "B = np.arange(2*N)\n",
    "print(B)"
   ]
  },
  {
   "cell_type": "code",
   "execution_count": 9,
   "id": "440acb3f",
   "metadata": {},
   "outputs": [
    {
     "name": "stdout",
     "output_type": "stream",
     "text": [
      "[[ 0  1  2  3  4  5  6  7  8  9]\n",
      " [10 11 12 13 14 15 16 17 18 19]]\n",
      "B shape: (2, 10)\n"
     ]
    }
   ],
   "source": [
    "B = B.reshape(2,10)\n",
    "print(B)\n",
    "print(f\"B shape: {B.shape}\")"
   ]
  },
  {
   "cell_type": "markdown",
   "id": "e3e3ea19",
   "metadata": {},
   "source": [
    "# Array operations\n",
    "Once you have created an array, there are various operations you may want to perform on them. We'll go through some of the most common ones in the next few cells.\n",
    "\n",
    "## Binary operators\n",
    "Similar to normal counting numbers, Numpy arrays can be used as arguments to binary arithmetic operators like `*` (multiplication), `+` (addition), `-`(subtraction) and `/`(division).  \n",
    "However, these can only be applied to arrays under certain conditions:\n",
    "1. The arrays have the same shape, OR\n",
    "2. The operation is between an array and a scalar, OR\n",
    "3. The operations is between 2 arrays of different shapes that can be \"broadcast\" together - more on this later\n",
    "\n",
    "These operations are applied **element-wise** meaning each element in the array is combined with its corresponding element at the same position in the other array"
   ]
  },
  {
   "cell_type": "code",
   "execution_count": 6,
   "id": "d630c356",
   "metadata": {},
   "outputs": [
    {
     "name": "stdout",
     "output_type": "stream",
     "text": [
      "[[11.2644738  11.63937897]\n",
      " [11.53511024 11.4786608 ]\n",
      " [11.77392516 11.25488687]\n",
      " [11.00481126 11.77960627]\n",
      " [11.02524989 11.03892969]]\n"
     ]
    }
   ],
   "source": [
    "# Addition with a scalar\n",
    "A1 = np.arange(N).reshape(A.shape)\n",
    "C = 11 + A \n",
    "print(C)"
   ]
  },
  {
   "cell_type": "code",
   "execution_count": 7,
   "id": "b729a52e",
   "metadata": {},
   "outputs": [
    {
     "name": "stdout",
     "output_type": "stream",
     "text": [
      "[[-0.2644738   0.36062103]\n",
      " [ 1.46488976  2.5213392 ]\n",
      " [ 3.22607484  4.74511313]\n",
      " [ 5.99518874  6.22039373]\n",
      " [ 7.97475011  8.96107031]]\n"
     ]
    }
   ],
   "source": [
    "# Subtraction with another array of same shape\n",
    "C = A1 - A \n",
    "print(C)"
   ]
  },
  {
   "cell_type": "code",
   "execution_count": 8,
   "id": "d3454d04",
   "metadata": {},
   "outputs": [
    {
     "name": "stdout",
     "output_type": "stream",
     "text": [
      "[[0.         0.63937897]\n",
      " [1.07022047 1.4359824 ]\n",
      " [3.09570062 1.27443435]\n",
      " [0.02886758 5.45724387]\n",
      " [0.20199913 0.35036721]]\n"
     ]
    }
   ],
   "source": [
    "# Multiplication with another array of same shape\n",
    "C = A1 * A \n",
    "print(C)"
   ]
  },
  {
   "cell_type": "code",
   "execution_count": 9,
   "id": "9ae00ef0",
   "metadata": {},
   "outputs": [
    {
     "name": "stdout",
     "output_type": "stream",
     "text": [
      "[[  41.59202125   17.20419422]\n",
      " [  20.55651203   22.98078301]\n",
      " [  14.21326069   43.15640128]\n",
      " [2286.30161835   14.10968648]\n",
      " [ 435.64543488  282.560685  ]]\n"
     ]
    }
   ],
   "source": [
    "# Division by a scalar\n",
    "C = 11 / A \n",
    "print(C)"
   ]
  },
  {
   "cell_type": "markdown",
   "id": "2e285677",
   "metadata": {},
   "source": [
    "## Broadcasting\n",
    "As long as an array's dimensions are compatible with their counterparts in the other array, they can be \"broadcasted\" together. This means that numpy will 'strectch' the smaller dimension along its axis so that element-wise operations can be applied between them. In general, 2 arrays can be broadcast together if each dimension in one array is compatible with its counterpart in the other array. Dimensions are compatible if they are equal or one of them is equal to 1. The dimension of size 1 is expanded to fit the size of its counterpart [https://numpy.org/doc/stable/user/basics.broadcasting.html]"
   ]
  },
  {
   "cell_type": "code",
   "execution_count": 10,
   "id": "be491c00",
   "metadata": {},
   "outputs": [
    {
     "name": "stdout",
     "output_type": "stream",
     "text": [
      "[[0]\n",
      " [1]\n",
      " [2]\n",
      " [3]\n",
      " [4]] (5, 1)\n",
      "[[0.2644738  0.63937897]\n",
      " [1.53511024 1.4786608 ]\n",
      " [2.77392516 2.25488687]\n",
      " [3.00481126 3.77960627]\n",
      " [4.02524989 4.03892969]] (5, 2)\n"
     ]
    }
   ],
   "source": [
    "\n",
    "A2 = np.arange(5).reshape(5,1)\n",
    "print(A2, A2.shape)  \n",
    "\n",
    "# A2 has shape (5, 1) so it can be broadcast to shape (5, 2) along A's horizontal axis\n",
    "# it's as if A2 has been copied along the horizontal axis so that it can be added to A\n",
    "D = A + A2\n",
    "print(D, D.shape)"
   ]
  },
  {
   "cell_type": "code",
   "execution_count": 11,
   "id": "8af7f502",
   "metadata": {},
   "outputs": [
    {
     "name": "stdout",
     "output_type": "stream",
     "text": [
      "[[0 1]] (1, 2)\n",
      "[[0.         0.63937897]\n",
      " [0.         0.4786608 ]\n",
      " [0.         0.25488687]\n",
      " [0.         0.77960627]\n",
      " [0.         0.03892969]] (5, 2)\n"
     ]
    }
   ],
   "source": [
    "# Similarly, we can also broadcast an array of shape (1, 2) along A's vertical axis\n",
    "A3 = np.arange(2).reshape(1,2)\n",
    "print(A3, A3.shape)\n",
    "\n",
    "E = A * A3\n",
    "print(E, E.shape)\n",
    "\n",
    "\n"
   ]
  },
  {
   "cell_type": "markdown",
   "id": "5cfde7f5",
   "metadata": {},
   "source": [
    "## Array products\n",
    "Contrary to the `*` operator, which performs element-wise multiplication between the arrays, `np.dot` and `np.matmul` are the dot and matrix products, respectively, of the arrays."
   ]
  },
  {
   "cell_type": "code",
   "execution_count": 12,
   "id": "4a8b3147",
   "metadata": {},
   "outputs": [
    {
     "name": "stdout",
     "output_type": "stream",
     "text": [
      "[[ 6.39378971  7.29764249  8.20149526  9.10534803 10.00920081 10.91305358\n",
      "  11.81690635 12.72075913 13.6246119  14.52846467]\n",
      " [ 4.78660801  5.80037904  6.81415008  7.82792112  8.84169216  9.85546319\n",
      "  10.86923423 11.88300527 12.8967763  13.91054734]\n",
      " [ 2.54886869  3.57768072  4.60649274  5.63530477  6.66411679  7.69292882\n",
      "   8.72174084  9.75055287 10.77936489 11.80817692]\n",
      " [ 7.79606267  8.5804802   9.36489773 10.14931526 10.93373279 11.71815032\n",
      "  12.50256785 13.28698538 14.07140291 14.85582044]\n",
      " [ 0.3892969   0.45347649  0.51765607  0.58183565  0.64601523  0.71019481\n",
      "   0.7743744   0.83855398  0.90273356  0.96691314]]\n",
      "F_1 shape: (5, 10)\n",
      "F_1, F_2 and F_3 are  equal!\n"
     ]
    }
   ],
   "source": [
    "# The @ operator is always equivalent to np.matmul. When working with 2D arrays, np.matmul and np.dot are equivalent. We can show this:\n",
    "F_1 = A @ B\n",
    "F_2 = np.matmul(A, B)\n",
    "F_3 = np.dot(A, B)\n",
    "print(F_1)\n",
    "print(f\"F_1 shape: {F_1.shape}\")\n",
    "print(f\"F_1, F_2 and F_3 are { '' if np.array_equal(F_1, F_2) and np.array_equal(F_2, F_3) else 'not' } equal!\")"
   ]
  },
  {
   "cell_type": "markdown",
   "id": "5f4be63d",
   "metadata": {},
   "source": [
    "# Functions\n",
    "Another useful thing we might want to do with an array is to apply a function to each element.\n",
    "Generally speaking, it is best to use the built-in Numpy functions to work on numpy arrays instead of defining your own. This is because Numpy functions are highly optimised for speed,  \n",
    "which is important when working with large amounts of data. Chances are, whatever kind of mathematical operation you want to perform on a Numpy array is already built in. See below for a full list:  \n",
    "https://numpy.org/doc/stable/reference/routines.math.html  \n",
    "\n",
    "## Element-wise functions\n",
    "Common uses are applying trig functions to an array of values:"
   ]
  },
  {
   "cell_type": "code",
   "execution_count": 13,
   "id": "0d99a1ba",
   "metadata": {},
   "outputs": [
    {
     "data": {
      "image/png": "[encoded data removed]",
      "text/plain": [
       "<Figure size 640x480 with 1 Axes>"
      ]
     },
     "metadata": {},
     "output_type": "display_data"
    },
    {
     "data": {
      "image/png": "[encoded data removed]",
      "text/plain": [
       "<Figure size 640x480 with 1 Axes>"
      ]
     },
     "metadata": {},
     "output_type": "display_data"
    }
   ],
   "source": [
    "import matplotlib.pyplot as plt\n",
    "\n",
    "# Element-wise functions: \n",
    "G = np.arange(0, 2*np.pi, 0.2)\n",
    "H = np.sin(G)\n",
    "plt.plot(G, H)\n",
    "plt.suptitle(\"sin(G)\")\n",
    "plt.show()\n",
    "\n",
    "H_1 = np.exp(G)\n",
    "plt.plot(G, H_1)\n",
    "plt.suptitle(\"exp(G)\")\n",
    "plt.show()\n"
   ]
  },
  {
   "cell_type": "markdown",
   "id": "abc97f70",
   "metadata": {},
   "source": [
    "## Reduce functions\n",
    "These are applied along the selected dimension, consumes all the elements and reduces the axis down to 1 element.  \n",
    "If no axis is specified, the function is applied to the whole array, and reduces it to a scalar"
   ]
  },
  {
   "cell_type": "code",
   "execution_count": 14,
   "id": "5d79e457",
   "metadata": {},
   "outputs": [
    {
     "name": "stdout",
     "output_type": "stream",
     "text": [
      "[[0.2644738  0.63937897]\n",
      " [0.53511024 0.4786608 ]\n",
      " [0.77392516 0.25488687]\n",
      " [0.00481126 0.77960627]\n",
      " [0.02524989 0.03892969]]\n",
      "Maximum value in A: \n",
      "0.7796062665558402\n",
      "Average of each column in A: \n",
      "[[0.32071407 0.43829252]]\n",
      "Minimum value in each row in A: \n",
      "[[0.2644738 ]\n",
      " [0.4786608 ]\n",
      " [0.25488687]\n",
      " [0.00481126]\n",
      " [0.02524989]]\n"
     ]
    }
   ],
   "source": [
    "print(A)\n",
    "\n",
    "I = A.max()\n",
    "print(f\"Maximum value in A: \\n{I}\")\n",
    "\n",
    "I_2 = np.mean(A, axis=0, keepdims=True)  # keepdims is needed to preserve the original shape of the axis\n",
    "print(f\"Average of each column in A: \\n{I_2}\")\n",
    "\n",
    "I_3 = A.min(axis=1, keepdims=True) \n",
    "print(f\"Minimum value in each row in A: \\n{I_3}\")\n"
   ]
  },
  {
   "cell_type": "markdown",
   "id": "1e67bef4",
   "metadata": {},
   "source": [
    "# Practical example\n",
    "\n",
    "Putting everything together for a practical example, and visulalise the output of some Numpy operations"
   ]
  },
  {
   "cell_type": "code",
   "execution_count": 15,
   "id": "053dfac8",
   "metadata": {},
   "outputs": [],
   "source": [
    "# Defining some helper functions\n",
    "def plot_point(point):\n",
    "    plt.rcParams[\"figure.figsize\"] = [3.50, 3.50]\n",
    "    plt.rcParams[\"figure.autolayout\"] = True\n",
    "    x = point[0]\n",
    "    y = point[1]\n",
    "    \n",
    "    lims = 3\n",
    "    fig = plt.figure()\n",
    "    ax = fig.add_subplot(111)\n",
    "    plt.xlim(-lims, lims)\n",
    "    plt.ylim(-lims, lims)\n",
    "    plt.grid()\n",
    "    ax.plot(x, y, marker=\"o\", markersize=7, markeredgecolor=\"black\", markerfacecolor=\"red\")\n",
    "    ax.spines['left'].set_position('zero')\n",
    "    ax.spines['right'].set_color('none')\n",
    "    ax.spines['bottom'].set_position('zero')\n",
    "    ax.spines['top'].set_color('none')\n",
    "    plt.show()\n",
    "\n",
    "\n",
    "\n",
    "# This function returns an np array that describes a 2d rotation \n",
    "# matrix [https://www1.udel.edu/biology/rosewc/kaap686/notes/matrices_rotations.pdf]. \n",
    "# These kinds of structures are often used in computer graphics to rotate and translate points in space\n",
    "def get_rot_clockwise_matrix(angle):\n",
    "    return np.array([\n",
    "        [ math.cos(angle), math.sin(angle)],\n",
    "        [-math.sin(angle), math.cos(angle)]\n",
    "    ])"
   ]
  },
  {
   "cell_type": "code",
   "execution_count": 16,
   "id": "e5bedc69",
   "metadata": {},
   "outputs": [
    {
     "data": {
      "image/png": "[encoded data removed]",
      "text/plain": [
       "<Figure size 350x350 with 1 Axes>"
      ]
     },
     "metadata": {},
     "output_type": "display_data"
    }
   ],
   "source": [
    "# Define a 2d point p to be a numpy array that holds the co-ordinates 1, 1\n",
    "N = 2\n",
    "p = np.random.rand(2) # random 2-element array\n",
    "p = 2 * p              # scale array using scalar multiplication\n",
    "p = p.reshape(2, 1)    # reshape it into a 2x1 matrix\n",
    "plot_point(p)"
   ]
  },
  {
   "cell_type": "code",
   "execution_count": 17,
   "id": "1937533d",
   "metadata": {},
   "outputs": [
    {
     "name": "stdout",
     "output_type": "stream",
     "text": [
      "141.28372547084322\n"
     ]
    },
    {
     "data": {
      "image/png": "[encoded data removed]",
      "text/plain": [
       "<Figure size 350x350 with 1 Axes>"
      ]
     },
     "metadata": {},
     "output_type": "display_data"
    }
   ],
   "source": [
    "# Define maximum and minimum rotation angles in radians - there are 360 degrees in 2*pi radians\n",
    "min_angle = math.pi/2 # 90 degrees\n",
    "max_angle = math.pi   # 180 degrees\n",
    "\n",
    "angle = np.random.uniform(min_angle, max_angle) # get a random angle between the two we just defined\n",
    "print(angle * 180 / math.pi) # print the angle in degrees so we can see if it's roughly correct\n",
    "# Get the matrix (numpy array) for a clockwise rotation\n",
    "rot90 = get_rot_clockwise_matrix(angle)\n",
    "\n",
    "# Perform the multiplication and plot!\n",
    "p = rot90 @ p\n",
    "plot_point(p)\n"
   ]
  },
  {
   "cell_type": "code",
   "execution_count": 18,
   "id": "65e93aeb",
   "metadata": {},
   "outputs": [
    {
     "data": {
      "image/png": "[encoded data removed]",
      "text/plain": [
       "<Figure size 350x350 with 1 Axes>"
      ]
     },
     "metadata": {},
     "output_type": "display_data"
    }
   ],
   "source": [
    "# Translate the position by some arbitrary amount\n",
    "\n",
    "translation = np.array([-2, 1]).reshape(2, 1)\n",
    "p = p + translation # transpose the array so it can be broadcast to the point array's shape\n",
    "\n",
    "plot_point(p)"
   ]
  }
 ],
 "metadata": {
  "kernelspec": {
   "display_name": "Python 3 (ipykernel)",
   "language": "python",
   "name": "python3"
  },
  "language_info": {
   "codemirror_mode": {
    "name": "ipython",
    "version": 3
   },
   "file_extension": ".py",
   "mimetype": "text/x-python",
   "name": "python",
   "nbconvert_exporter": "python",
   "pygments_lexer": "ipython3",
   "version": "3.8.10"
  }
 },
 "nbformat": 4,
 "nbformat_minor": 5
}
