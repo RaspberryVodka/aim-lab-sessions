{
 "cells": [
  {
   "cell_type": "markdown",
   "id": "4d2c698f",
   "metadata": {},
   "source": [
    "# 1. Numpy \n",
    "Numpy is a powerful Python module that should be in the toolbelt of any AI/Deep learning practitioner. It provides functions and data strutctures that allow fast, efficient manipulation of mathematical structures like matrices and vectors. It represents these structures internally using Numpy arrays, which are like Python Lists, but highly optimised for calculations on large amounts of numerical data. Let's import this module now."
   ]
  },
  {
   "cell_type": "code",
   "execution_count": 1,
   "id": "a352c02e",
   "metadata": {},
   "outputs": [],
   "source": [
    "import numpy as np"
   ]
  },
  {
   "cell_type": "markdown",
   "id": "fe0a2fda",
   "metadata": {},
   "source": [
    "### 1.1.1 Array creation\n",
    "Numpy arrays can be created in a few different ways. Common ones are:\n",
    "1. Instantiated using values from a normal Python list\n",
    "2. Filled with sequential values upto a target number\n",
    "3. Filled with a specific value\n",
    "4. Filled with random values (various random distributions available) - see https://numpy.org/doc/stable/reference/random/index.html\n"
   ]
  },
  {
   "cell_type": "code",
   "execution_count": 2,
   "id": "cc36ef32",
   "metadata": {},
   "outputs": [
    {
     "name": "stdout",
     "output_type": "stream",
     "text": [
      "[   2    4    8   16   32   64  128  256  512 1024]\n"
     ]
    }
   ],
   "source": [
    "#Array creation from python list\n",
    "python_list = [2, 4, 8, 16, 32, 64, 128, 256, 512, 1024]\n",
    "np_from_list = np.array(python_list)  \n",
    "print(np_from_list)"
   ]
  },
  {
   "cell_type": "code",
   "execution_count": 3,
   "id": "0ccacf1d",
   "metadata": {},
   "outputs": [
    {
     "name": "stdout",
     "output_type": "stream",
     "text": [
      "[ 0  1  2  3  4  5  6  7  8  9 10 11 12 13 14 15 16 17 18 19]\n"
     ]
    }
   ],
   "source": [
    "#Array creation with sequential values \n",
    "seq_array = np.arange(20)\n",
    "print(seq_array)"
   ]
  },
  {
   "cell_type": "code",
   "execution_count": 4,
   "id": "3b4a7775",
   "metadata": {},
   "outputs": [
    {
     "name": "stdout",
     "output_type": "stream",
     "text": [
      "[0.85359924 0.21550455 0.61883209 0.1461737  0.56325449 0.31472741\n",
      " 0.82298374 0.52887853 0.29088479 0.56808861]\n"
     ]
    }
   ],
   "source": [
    "#Array creation with random values \n",
    "random_array = np.random.rand(10)  # returns an array filled with 10 random floats between 0 and 1\n",
    "print(random_array)"
   ]
  },
  {
   "cell_type": "code",
   "execution_count": 5,
   "id": "a0dc866c",
   "metadata": {},
   "outputs": [
    {
     "name": "stdout",
     "output_type": "stream",
     "text": [
      "[256 256 256 256 256 256 256 256 256 256]\n"
     ]
    }
   ],
   "source": [
    "#Array filled with the same specific value\n",
    "filled_array = np.full(10, 256)  # returns an array filled with 10 instances of 256\n",
    "print(filled_array)"
   ]
  },
  {
   "cell_type": "markdown",
   "id": "e92f617f",
   "metadata": {},
   "source": [
    "### 1.1.2 Reshaping arrays\n",
    "\n",
    "One of the many things that set Numpy arrays apart from Python lists is their `reshape` method. This allows you to define the number of dimensions that the structure represented by the array has. For example, the array `np_from_list` that we have just defined is just a flat list of numbers at the moment. `reshape` helps us represent it as a 2D data structure (a matrix). Keep in mind that the shape that you put into this method must agree with the number of elements in the array. In our example, the array has 10 elements, so acceptable shapes include:\n",
    "* 5, 2\n",
    "* 2, 5\n",
    "* 1, 10\n",
    "* 10, 1"
   ]
  },
  {
   "cell_type": "code",
   "execution_count": 6,
   "id": "e5e2f39c",
   "metadata": {},
   "outputs": [
    {
     "name": "stdout",
     "output_type": "stream",
     "text": [
      "[[   2    4]\n",
      " [   8   16]\n",
      " [  32   64]\n",
      " [ 128  256]\n",
      " [ 512 1024]]\n",
      "matrix_5_2 shape: (5, 2)\n"
     ]
    }
   ],
   "source": [
    "matrix_5_2 = np_from_list.reshape(5,2)\n",
    "print(matrix_5_2)\n",
    "print(f\"matrix_5_2 shape: {matrix_5_2.shape}\")"
   ]
  },
  {
   "cell_type": "code",
   "execution_count": 7,
   "id": "440acb3f",
   "metadata": {},
   "outputs": [
    {
     "name": "stdout",
     "output_type": "stream",
     "text": [
      "[[ 0  1  2  3  4  5  6  7  8  9]\n",
      " [10 11 12 13 14 15 16 17 18 19]]\n",
      "matrix_2_10 shape: (2, 10)\n"
     ]
    }
   ],
   "source": [
    "matrix_2_10 = seq_array.reshape(2,10)\n",
    "print(matrix_2_10)\n",
    "print(f\"matrix_2_10 shape: {matrix_2_10.shape}\")"
   ]
  },
  {
   "cell_type": "markdown",
   "id": "a1595ed6",
   "metadata": {},
   "source": [
    "### 1.1.3 Exercises"
   ]
  },
  {
   "cell_type": "code",
   "execution_count": 8,
   "id": "7c92bf29",
   "metadata": {},
   "outputs": [
    {
     "name": "stdout",
     "output_type": "stream",
     "text": [
      "[ 0  1  2  3  4  5  6  7  8  9 10 11 12 13 14 15 16 17 18 19 20 21 22 23\n",
      " 24 25 26 27 28 29 30 31]\n"
     ]
    }
   ],
   "source": [
    "# Create a Numpy array A that contains the integers from 0 - 31 (32 elements long)\n",
    "A = ...\n",
    "print(A)"
   ]
  },
  {
   "cell_type": "code",
   "execution_count": 9,
   "id": "9733259f",
   "metadata": {},
   "outputs": [
    {
     "name": "stdout",
     "output_type": "stream",
     "text": [
      "[0.94660477 0.6491107  0.68032809 0.15248778 0.80715277 0.4714136\n",
      " 0.64061076 0.89914903 0.1444249  0.56340859 0.37597514 0.61321826]\n"
     ]
    }
   ],
   "source": [
    "# Create a Numpy array B that contains 12 random numbers between 0 and 1\n",
    "B = ...\n",
    "print(B)"
   ]
  },
  {
   "cell_type": "code",
   "execution_count": 10,
   "id": "2f6f8caf",
   "metadata": {},
   "outputs": [
    {
     "name": "stdout",
     "output_type": "stream",
     "text": [
      "[[ 0  1  2  3]\n",
      " [ 4  5  6  7]\n",
      " [ 8  9 10 11]\n",
      " [12 13 14 15]\n",
      " [16 17 18 19]\n",
      " [20 21 22 23]\n",
      " [24 25 26 27]\n",
      " [28 29 30 31]]\n"
     ]
    }
   ],
   "source": [
    "# Turn A into a 2d matrix of shape (8, 4) - 8 rows, 4 columns\n",
    "A = ...\n",
    "print(A)"
   ]
  },
  {
   "cell_type": "code",
   "execution_count": 11,
   "id": "6c39b352",
   "metadata": {},
   "outputs": [
    {
     "name": "stdout",
     "output_type": "stream",
     "text": [
      "[[0.94660477 0.6491107  0.68032809]\n",
      " [0.15248778 0.80715277 0.4714136 ]\n",
      " [0.64061076 0.89914903 0.1444249 ]\n",
      " [0.56340859 0.37597514 0.61321826]]\n"
     ]
    }
   ],
   "source": [
    "# Turn B into a 2d matrix of shape (4, 3)\n",
    "B = ...\n",
    "print(B)"
   ]
  },
  {
   "cell_type": "markdown",
   "id": "e3e3ea19",
   "metadata": {},
   "source": [
    "## 1.2 Array operations\n",
    "Once you have created an array, there are various operations you may want to perform on them. We'll go through some of the most common ones in the next few cells.\n",
    "\n",
    "### 1.2.1 Binary operators\n",
    "Similar to normal counting numbers, Numpy arrays can be used as arguments to binary arithmetic operators like `*` (multiplication), `+` (addition), `-`(subtraction) and `/`(division). However, these can only be applied to arrays under certain conditions:\n",
    "1. The arrays have the same shape, OR\n",
    "2. The operation is between an array and a scalar, OR\n",
    "3. The operations is between 2 arrays of different shapes that can be \"broadcast\" together - more on this later\n",
    "\n",
    "These operations are applied **element-wise** meaning each element in the array is combined with its corresponding element at the same position in the other array"
   ]
  },
  {
   "cell_type": "code",
   "execution_count": 12,
   "id": "d630c356",
   "metadata": {},
   "outputs": [
    {
     "name": "stdout",
     "output_type": "stream",
     "text": [
      "[[11.52876623 11.18639677 11.88731666 11.39916654]\n",
      " [11.75988146 11.24457888 11.18330672 11.93893939]\n",
      " [11.75996565 11.9620578  11.77164364 11.09362489]\n",
      " [11.77421122 11.11781541 11.56596966 11.93185942]\n",
      " [11.20366123 11.49667201 11.99896836 11.4105833 ]\n",
      " [11.64121101 11.34538066 11.83726166 11.38794767]\n",
      " [11.35516755 11.9550781  11.89987947 11.08088978]\n",
      " [11.75609752 11.37462288 11.08040079 11.42720056]]\n"
     ]
    }
   ],
   "source": [
    "# Addition with a scalar\n",
    "arr = np.random.rand(32).reshape(A.shape)\n",
    "scalar_add_array = 11 + arr \n",
    "print(scalar_add_array)"
   ]
  },
  {
   "cell_type": "code",
   "execution_count": 13,
   "id": "b729a52e",
   "metadata": {},
   "outputs": [
    {
     "name": "stdout",
     "output_type": "stream",
     "text": [
      "[[  0.52876623  -0.81360323  -1.11268334  -2.60083346]\n",
      " [ -3.24011854  -4.75542112  -5.81669328  -6.06106061]\n",
      " [ -7.24003435  -8.0379422   -9.22835636 -10.90637511]\n",
      " [-11.22578878 -12.88218459 -13.43403034 -14.06814058]\n",
      " [-15.79633877 -16.50332799 -17.00103164 -18.5894167 ]\n",
      " [-19.35878899 -20.65461934 -21.16273834 -22.61205233]\n",
      " [-23.64483245 -24.0449219  -25.10012053 -26.91911022]\n",
      " [-27.24390248 -28.62537712 -29.91959921 -30.57279944]]\n"
     ]
    }
   ],
   "source": [
    "# Subtraction with another array of same shape\n",
    "sub_array = arr - A \n",
    "print(sub_array)"
   ]
  },
  {
   "cell_type": "code",
   "execution_count": 14,
   "id": "d3454d04",
   "metadata": {},
   "outputs": [
    {
     "name": "stdout",
     "output_type": "stream",
     "text": [
      "[[ 0.          0.18639677  1.77463333  1.19749962]\n",
      " [ 3.03952586  1.22289441  1.09984032  6.57257574]\n",
      " [ 6.07972521  8.65852024  7.71643645  1.02987384]\n",
      " [ 9.29053467  1.53160039  7.92357521 13.97789126]\n",
      " [ 3.2585797   8.44342419 17.98143053  7.8010827 ]\n",
      " [12.82422013  7.25299391 18.41975657  8.92279641]\n",
      " [ 8.52402113 23.87695252 23.39686614  2.18402394]\n",
      " [21.17073058 10.86406352  2.41202385 13.24321732]]\n"
     ]
    }
   ],
   "source": [
    "# Multiplication with another array of same shape\n",
    "mul_array = arr * A \n",
    "print(mul_array)"
   ]
  },
  {
   "cell_type": "code",
   "execution_count": 15,
   "id": "9ae00ef0",
   "metadata": {},
   "outputs": [
    {
     "name": "stdout",
     "output_type": "stream",
     "text": [
      "[[ 20.80314376  59.01389752  12.39692709  27.55742013]\n",
      " [ 14.47594199  44.97526483  60.00871093  11.71534616]\n",
      " [ 14.4743384   11.4338244   14.2552849  117.49011914]\n",
      " [ 14.20800898  93.36639053  19.43567088  11.80435567]\n",
      " [ 54.01126139  22.1474127   11.01135973  26.79115299]\n",
      " [ 17.15503928  31.84891685  13.13806722  28.35433965]\n",
      " [ 30.97129818  11.51738271  12.22385931 135.9875206 ]\n",
      " [ 14.54838787  29.36286219 136.8145677   25.74903   ]]\n"
     ]
    }
   ],
   "source": [
    "# Division by a scalar\n",
    "div_array = 11 / arr \n",
    "print(div_array)"
   ]
  },
  {
   "cell_type": "markdown",
   "id": "2e285677",
   "metadata": {},
   "source": [
    "### 1.2.2 Broadcasting\n",
    "As long as an array's dimensions are compatible with their counterparts in the other array, they can be \"broadcasted\" together. This means that numpy will 'strectch' the smaller dimension along its axis so that element-wise operations can be applied between them. In general, 2 arrays can be broadcast together if each dimension in one array is compatible with its counterpart in the other array. Dimensions are compatible if they are equal or one of them is equal to 1. The dimension of size 1 is expanded to fit the size of its counterpart [https://numpy.org/doc/stable/user/basics.broadcasting.html]"
   ]
  },
  {
   "cell_type": "code",
   "execution_count": 16,
   "id": "be491c00",
   "metadata": {},
   "outputs": [
    {
     "name": "stdout",
     "output_type": "stream",
     "text": [
      "[[0]\n",
      " [1]\n",
      " [2]\n",
      " [3]] (4, 1)\n",
      "[[0.94660477 0.6491107  0.68032809]\n",
      " [1.15248778 1.80715277 1.4714136 ]\n",
      " [2.64061076 2.89914903 2.1444249 ]\n",
      " [3.56340859 3.37597514 3.61321826]] (4, 3)\n"
     ]
    }
   ],
   "source": [
    "array_4_1 = np.arange(4).reshape(4,1)\n",
    "print(array_4_1, array_4_1.shape)  \n",
    "\n",
    "# array_4_1 has shape (4, 1) so it can be broadcast to shape (4, 3) along B's horizontal axis\n",
    "# it's as if array_4_1 has been copied along the horizontal axis so that it can be added to B\n",
    "broadcasted = array_4_1 + B\n",
    "print(broadcasted, broadcasted.shape)"
   ]
  },
  {
   "cell_type": "code",
   "execution_count": 17,
   "id": "8af7f502",
   "metadata": {},
   "outputs": [
    {
     "name": "stdout",
     "output_type": "stream",
     "text": [
      "[[0 1 2]] (1, 3)\n",
      "[[0.         0.6491107  1.36065619]\n",
      " [0.         0.80715277 0.9428272 ]\n",
      " [0.         0.89914903 0.2888498 ]\n",
      " [0.         0.37597514 1.22643653]] (4, 3)\n"
     ]
    }
   ],
   "source": [
    "# Similarly, we can also broadcast an array of shape (1, 2) along B's vertical axis\n",
    "array_1_3 = np.arange(3).reshape(1,3)\n",
    "print(array_1_3, array_1_3.shape)\n",
    "\n",
    "broadcasted = array_1_3 * B\n",
    "print(broadcasted, broadcasted.shape)\n",
    "\n",
    "\n"
   ]
  },
  {
   "cell_type": "markdown",
   "id": "5cfde7f5",
   "metadata": {},
   "source": [
    "### 1.2.3 Array products\n",
    "Contrary to the `*` operator, which performs element-wise multiplication between the arrays, `np.matmul` is the matrix product of the arrays."
   ]
  },
  {
   "cell_type": "code",
   "execution_count": 18,
   "id": "4a8b3147",
   "metadata": {},
   "outputs": [
    {
     "name": "stdout",
     "output_type": "stream",
     "text": [
      "A shape: (8, 4), B shape: (4, 3), AB shape: (8, 3)\n"
     ]
    }
   ],
   "source": [
    "matmul_matrix = np.matmul(A, B)\n",
    "print(f\"A shape: {A.shape}, B shape: {B.shape}, AB shape: {matmul_matrix.shape}\")"
   ]
  },
  {
   "cell_type": "markdown",
   "id": "3c664992",
   "metadata": {},
   "source": [
    "### 1.2.4 Exercises"
   ]
  },
  {
   "cell_type": "code",
   "execution_count": 19,
   "id": "984028f1",
   "metadata": {},
   "outputs": [
    {
     "name": "stdout",
     "output_type": "stream",
     "text": [
      "[[0.37864191 0.25964428 0.27213124]\n",
      " [0.06099511 0.32286111 0.18856544]\n",
      " [0.2562443  0.35965961 0.05776996]\n",
      " [0.22536344 0.15039005 0.24528731]]\n"
     ]
    }
   ],
   "source": [
    "# Divide your array B by the number 2.5. Store the result in a variable C\n",
    "C = ...\n",
    "print(C)"
   ]
  },
  {
   "cell_type": "code",
   "execution_count": 20,
   "id": "a4cab794",
   "metadata": {},
   "outputs": [
    {
     "name": "stdout",
     "output_type": "stream",
     "text": [
      "[[-1 -1 -1]\n",
      " [-1 -1 -1]\n",
      " [-1 -1 -1]\n",
      " [-1 -1 -1]]\n"
     ]
    }
   ],
   "source": [
    "# Create a new array filled with -1. The array must have the same shape as B. Store the result in a variable D\n",
    "D = ...\n",
    "print(D)"
   ]
  },
  {
   "cell_type": "code",
   "execution_count": 21,
   "id": "3b44a8c2",
   "metadata": {},
   "outputs": [
    {
     "name": "stdout",
     "output_type": "stream",
     "text": [
      "[[-0.37864191 -0.25964428 -0.27213124]\n",
      " [-0.06099511 -0.32286111 -0.18856544]\n",
      " [-0.2562443  -0.35965961 -0.05776996]\n",
      " [-0.22536344 -0.15039005 -0.24528731]]\n"
     ]
    }
   ],
   "source": [
    "# Multiply this new array ELEMENT-WISE with B and store the result in a variable called E.\n",
    "E = ...\n",
    "print(E)"
   ]
  },
  {
   "cell_type": "code",
   "execution_count": 22,
   "id": "695a69a9",
   "metadata": {},
   "outputs": [
    {
     "name": "stdout",
     "output_type": "stream",
     "text": [
      "[[0 1]\n",
      " [2 3]]\n"
     ]
    }
   ],
   "source": [
    "# Consider the intermediate array below. \n",
    "intermediate_arr = np.arange(4).reshape(2, 2)\n",
    "print(intermediate_arr)"
   ]
  },
  {
   "cell_type": "code",
   "execution_count": 23,
   "id": "c6ab5eb2",
   "metadata": {},
   "outputs": [
    {
     "name": "stdout",
     "output_type": "stream",
     "text": [
      "[[-0.         -0.         -0.        ]\n",
      " [-0.06099511 -0.32286111 -0.18856544]\n",
      " [-0.51248861 -0.71931923 -0.11553992]\n",
      " [-0.67609031 -0.45117016 -0.73586192]]\n"
     ]
    }
   ],
   "source": [
    "# Try and multiply it with D element-wise. What happens? What could \n",
    "# you do to make this multiplication work? (hint: try and make\n",
    "# the intermediate array broadcastable to C)\n",
    "intermediate_arr = ...\n",
    "F = ...\n",
    "print(F)"
   ]
  },
  {
   "cell_type": "markdown",
   "id": "5f4be63d",
   "metadata": {},
   "source": [
    "## 1.3 Functions\n",
    "Another useful thing we might want to do with an array is to apply a function to each element. Generally speaking, it is best to use the built-in Numpy functions to work on numpy arrays instead of defining your own. This is because Numpy functions are highly optimised for speed, which is important when working with large amounts of data. Chances are, whatever kind of mathematical operation you want to perform on a Numpy array is already built in. See below for a full list:  \n",
    "https://numpy.org/doc/stable/reference/routines.math.html  \n",
    "\n",
    "### 1.3.1 Element-wise functions\n",
    "Common uses are applying trig functions to an array of values:"
   ]
  },
  {
   "cell_type": "code",
   "execution_count": 24,
   "id": "0d99a1ba",
   "metadata": {},
   "outputs": [
    {
     "data": {
      "image/png": "[encoded data removed]",
      "text/plain": [
       "<Figure size 640x480 with 1 Axes>"
      ]
     },
     "metadata": {},
     "output_type": "display_data"
    },
    {
     "data": {
      "image/png": "[encoded data removed]",
      "text/plain": [
       "<Figure size 640x480 with 1 Axes>"
      ]
     },
     "metadata": {},
     "output_type": "display_data"
    }
   ],
   "source": [
    "import matplotlib.pyplot as plt\n",
    "\n",
    "def simple_plot(x, y, label):\n",
    "    plt.plot(x, y)\n",
    "    plt.suptitle(label)\n",
    "    plt.show()\n",
    "\n",
    "    \n",
    "\n",
    "# Element-wise functions: \n",
    "G = np.arange(0, 2*np.pi, 0.2)\n",
    "H = np.sin(G)\n",
    "simple_plot(G, H, \"sin(G)\")\n",
    "\n",
    "H_1 = np.exp(G)\n",
    "simple_plot(G, H_1, \"exp(G)\")"
   ]
  },
  {
   "cell_type": "markdown",
   "id": "abc97f70",
   "metadata": {},
   "source": [
    "### 1.3.2 Reduce functions\n",
    "These are applied along the selected axis, consume all the elements and reduce the axis down to 1 element. If no axis is specified, the function is applied to the whole array, and reduces it to a scalar"
   ]
  },
  {
   "cell_type": "code",
   "execution_count": 25,
   "id": "5d79e457",
   "metadata": {},
   "outputs": [
    {
     "name": "stdout",
     "output_type": "stream",
     "text": [
      "[[ 0  1  2  3]\n",
      " [ 4  5  6  7]\n",
      " [ 8  9 10 11]\n",
      " [12 13 14 15]\n",
      " [16 17 18 19]\n",
      " [20 21 22 23]\n",
      " [24 25 26 27]\n",
      " [28 29 30 31]]\n",
      "Maximum value in A: \n",
      "31\n",
      "Average of each column in A: \n",
      "[[14. 15. 16. 17.]]\n",
      "Minimum value in each row in A: \n",
      "[[ 0]\n",
      " [ 4]\n",
      " [ 8]\n",
      " [12]\n",
      " [16]\n",
      " [20]\n",
      " [24]\n",
      " [28]]\n"
     ]
    }
   ],
   "source": [
    "print(A)\n",
    "\n",
    "I = A.max()\n",
    "print(f\"Maximum value in A: \\n{I}\")\n",
    "\n",
    "I_2 = np.mean(A, axis=0, keepdims=True)  # keepdims is needed to preserve the original shape of the axis\n",
    "print(f\"Average of each column in A: \\n{I_2}\")\n",
    "\n",
    "I_3 = A.min(axis=1, keepdims=True) \n",
    "print(f\"Minimum value in each row in A: \\n{I_3}\")\n"
   ]
  },
  {
   "cell_type": "markdown",
   "id": "c3bbeb71",
   "metadata": {},
   "source": [
    "### 1.3.3 Exercises\n"
   ]
  },
  {
   "cell_type": "code",
   "execution_count": 41,
   "id": "609343ef",
   "metadata": {},
   "outputs": [
    {
     "name": "stdout",
     "output_type": "stream",
     "text": [
      "Ellipsis\n"
     ]
    }
   ],
   "source": [
    "# Have a look at the trigonometric functions listed in the official numpy documentation: https://numpy.org/doc/stable/reference/routines.math.html\n",
    "# Pick any element-wise function that takes 1 argument and apply it to the following array. store the result in a variable called Ys\n",
    "Xs = np.arange(-2*np.pi, 2*np.pi, 0.1)\n",
    "Ys = ...\n",
    "print(Ys)"
   ]
  },
  {
   "cell_type": "code",
   "execution_count": 42,
   "id": "064e453e",
   "metadata": {},
   "outputs": [],
   "source": [
    "# Call our previously-defined simple plot function and display your result! Give the plot a suitable title\n",
    "..."
   ]
  },
  {
   "cell_type": "code",
   "execution_count": 28,
   "id": "92add300",
   "metadata": {},
   "outputs": [
    {
     "name": "stdout",
     "output_type": "stream",
     "text": [
      "1.411308415679924\n"
     ]
    }
   ],
   "source": [
    "# Use a suitable Numpy reduce function to find the maximum value of your function's result\n",
    "max_val = ...\n",
    "print(max_val)"
   ]
  },
  {
   "cell_type": "markdown",
   "id": "fef1ccff",
   "metadata": {},
   "source": [
    "## 1.4 numpy.where\n",
    "This allows us to conditionally modify the elements of an array, which can be useful for tasks like thresholding or masking."
   ]
  },
  {
   "cell_type": "code",
   "execution_count": 29,
   "id": "25e1bea8",
   "metadata": {},
   "outputs": [
    {
     "data": {
      "text/plain": [
       "array([[ 0,  0,  0,  0,  0,  0,  0,  0,  0,  0],\n",
       "       [ 0,  0,  0,  0,  0,  0,  0,  0,  0,  0],\n",
       "       [ 0,  0,  0,  0,  0,  0,  0,  0,  0,  0],\n",
       "       [ 0,  0,  0,  0,  0,  0,  0,  0,  0,  0],\n",
       "       [ 0,  0,  0,  0,  0,  0,  0,  0,  0,  0],\n",
       "       [50, 51, 52, 53, 54, 55, 56, 57, 58, 59],\n",
       "       [60, 61, 62, 63, 64, 65, 66, 67, 68, 69],\n",
       "       [70, 71, 72, 73, 74, 75, 76, 77, 78, 79],\n",
       "       [80, 81, 82, 83, 84, 85, 86, 87, 88, 89],\n",
       "       [90, 91, 92, 93, 94, 95, 96, 97, 98, 99]])"
      ]
     },
     "execution_count": 29,
     "metadata": {},
     "output_type": "execute_result"
    }
   ],
   "source": [
    "big_image = np.arange(10*10).reshape(10,10)\n",
    "big_image_thresh = np.where(big_image<50, 0, big_image)\n",
    "big_image_thresh\n"
   ]
  },
  {
   "cell_type": "markdown",
   "id": "b51d050b",
   "metadata": {},
   "source": [
    "### 1.4.1 Exercises\n"
   ]
  },
  {
   "cell_type": "code",
   "execution_count": 30,
   "id": "0b497357",
   "metadata": {},
   "outputs": [
    {
     "name": "stdout",
     "output_type": "stream",
     "text": [
      "[[0.25185956 0.2677892  0.68743166 0.52681316 0.51481031]\n",
      " [0.34976166 0.04098437 0.72461327 0.5645061  0.7903563 ]\n",
      " [0.39770905 0.09047202 0.57969886 0.91383938 0.69908217]\n",
      " [0.46450976 0.4436814  0.28603405 0.55631058 0.79787106]\n",
      " [0.86939553 0.20865305 0.11863935 0.01223757 0.92909226]\n",
      " [0.74573087 0.58775662 0.95253112 0.80656906 0.09569688]\n",
      " [0.03489794 0.47141474 0.11968137 0.67618795 0.3615895 ]\n",
      " [0.99184206 0.58720457 0.24582177 0.82218658 0.82805897]\n",
      " [0.0714896  0.60577353 0.0721193  0.13171833 0.16277309]\n",
      " [0.30561059 0.40487785 0.35080283 0.63239617 0.38455003]]\n"
     ]
    }
   ],
   "source": [
    "# Create a Numpy array of shape (10, 5) and fill it with random values between 0 and 1. Store it in a variable called J\n",
    "J = ...\n",
    "print(J)"
   ]
  },
  {
   "cell_type": "code",
   "execution_count": 31,
   "id": "5a5a78ca",
   "metadata": {},
   "outputs": [
    {
     "name": "stdout",
     "output_type": "stream",
     "text": [
      "[[0 0 1 1 1]\n",
      " [0 0 1 1 1]\n",
      " [0 0 1 1 1]\n",
      " [0 0 0 1 1]\n",
      " [1 0 0 0 1]\n",
      " [1 1 1 1 0]\n",
      " [0 0 0 1 0]\n",
      " [1 1 0 1 1]\n",
      " [0 1 0 0 0]\n",
      " [0 0 0 1 0]]\n"
     ]
    }
   ],
   "source": [
    "# Conditionally modify the array such that numbers below 0.5 are replaced with 0 and numbers above or equal to 0.5 are replaced with 1. Store the result in a variable called K\n",
    "K = ...\n",
    "print(K)"
   ]
  },
  {
   "cell_type": "markdown",
   "id": "1e67bef4",
   "metadata": {},
   "source": [
    "## 1.5 Practical example\n",
    "\n",
    "Putting everything together for a practical example, and visulalise the output of some Numpy operations"
   ]
  },
  {
   "cell_type": "code",
   "execution_count": 32,
   "id": "053dfac8",
   "metadata": {},
   "outputs": [],
   "source": [
    "# Defining some helper functions\n",
    "def plot_point(point):\n",
    "    plt.rcParams[\"figure.figsize\"] = [3.50, 3.50]\n",
    "    plt.rcParams[\"figure.autolayout\"] = True\n",
    "    x = point[0]\n",
    "    y = point[1]\n",
    "    \n",
    "    lims = 3\n",
    "    fig = plt.figure()\n",
    "    ax = fig.add_subplot(111)\n",
    "    plt.xlim(-lims, lims)\n",
    "    plt.ylim(-lims, lims)\n",
    "    plt.grid()\n",
    "    ax.plot(x, y, marker=\"o\", markersize=7, markeredgecolor=\"black\", markerfacecolor=\"red\")\n",
    "    ax.spines['left'].set_position('zero')\n",
    "    ax.spines['right'].set_color('none')\n",
    "    ax.spines['bottom'].set_position('zero')\n",
    "    ax.spines['top'].set_color('none')\n",
    "    plt.show()\n",
    "\n",
    "\n",
    "\n",
    "# This function returns an np array that describes a 2d rotation \n",
    "# matrix [https://www1.udel.edu/biology/rosewc/kaap686/notes/matrices_rotations.pdf]. \n",
    "# These kinds of structures are often used in computer graphics to rotate and translate points in space\n",
    "def get_rot_clockwise_matrix(angle):\n",
    "    return np.array([\n",
    "        [ np.cos(angle), np.sin(angle)],\n",
    "        [-np.sin(angle), np.cos(angle)]\n",
    "    ])"
   ]
  },
  {
   "cell_type": "code",
   "execution_count": 33,
   "id": "e5bedc69",
   "metadata": {},
   "outputs": [
    {
     "name": "stdout",
     "output_type": "stream",
     "text": [
      "[0.68704007 0.98188057]\n"
     ]
    }
   ],
   "source": [
    "# Create a random 2-element array containing values from 0 - 1. Assign this array to a variable `p`\n",
    "p = ...\n",
    "print(p)"
   ]
  },
  {
   "cell_type": "code",
   "execution_count": 34,
   "id": "d997ea3e",
   "metadata": {},
   "outputs": [
    {
     "name": "stdout",
     "output_type": "stream",
     "text": [
      "[1.37408013 1.96376113]\n"
     ]
    }
   ],
   "source": [
    "# Using scalar multiplication to double the value of the elements in `p`. Assign the result back to `p`\n",
    "p = ...\n",
    "print(p)"
   ]
  },
  {
   "cell_type": "code",
   "execution_count": 35,
   "id": "08c8bade",
   "metadata": {},
   "outputs": [
    {
     "data": {
      "image/png": "[encoded data removed]",
      "text/plain": [
       "<Figure size 350x350 with 1 Axes>"
      ]
     },
     "metadata": {},
     "output_type": "display_data"
    }
   ],
   "source": [
    "# Reshape `p` to be (2, 1), assign the result to `p` and plot the point.\n",
    "p = ...\n",
    "plot_point(p)"
   ]
  },
  {
   "cell_type": "code",
   "execution_count": 36,
   "id": "1937533d",
   "metadata": {},
   "outputs": [
    {
     "name": "stdout",
     "output_type": "stream",
     "text": [
      "173.24199908215348\n"
     ]
    }
   ],
   "source": [
    "# We will now rotate this point about the origin of the plot using the funciton we defined above\n",
    "# This cell is just some setup for the rest of the exercise, just run it once\n",
    "min_angle = np.pi/2 # 90 degrees\n",
    "max_angle = np.pi   # 180 degrees\n",
    "angle = np.random.uniform(min_angle, max_angle) # get a random angle between 90 and 180 degrees\n",
    "print(np.degrees(angle)) # print the angle in degrees so we can check the rotation is correct!"
   ]
  },
  {
   "cell_type": "code",
   "execution_count": 37,
   "id": "76b9a970",
   "metadata": {},
   "outputs": [
    {
     "name": "stdout",
     "output_type": "stream",
     "text": [
      "[[-0.99305203  0.11767607]\n",
      " [-0.11767607 -0.99305203]]\n"
     ]
    }
   ],
   "source": [
    "# Call the previously-defined roation matrix function with the angle. Assign the result to \n",
    "# a variable called `rot90`\n",
    "rot90 = ...\n",
    "print(rot90)"
   ]
  },
  {
   "cell_type": "code",
   "execution_count": 38,
   "id": "8a5828a3",
   "metadata": {},
   "outputs": [
    {
     "data": {
      "image/png": "[encoded data removed]",
      "text/plain": [
       "<Figure size 350x350 with 1 Axes>"
      ]
     },
     "metadata": {},
     "output_type": "display_data"
    }
   ],
   "source": [
    "# Apply a matrix multiplication operation between rot90 and p. assign the result back to p and plot it.\n",
    "p = ...\n",
    "plot_point(p)"
   ]
  },
  {
   "cell_type": "code",
   "execution_count": 39,
   "id": "65e93aeb",
   "metadata": {},
   "outputs": [
    {
     "name": "stdout",
     "output_type": "stream",
     "text": [
      "[[2]\n",
      " [2]]\n"
     ]
    }
   ],
   "source": [
    "# Create an array named `translation` which has the same shape as `p`, and fill it with 2's\n",
    "translation = ...\n",
    "print(translation)"
   ]
  },
  {
   "cell_type": "code",
   "execution_count": 40,
   "id": "fa58273b",
   "metadata": {},
   "outputs": [
    {
     "data": {
      "image/png": "[encoded data removed]",
      "text/plain": [
       "<Figure size 350x350 with 1 Axes>"
      ]
     },
     "metadata": {},
     "output_type": "display_data"
    }
   ],
   "source": [
    "# Add this result to p and plot it!\n",
    "p = ...\n",
    "plot_point(p)"
   ]
  }
 ],
 "metadata": {
  "kernelspec": {
   "display_name": "Python 3 (ipykernel)",
   "language": "python",
   "name": "python3"
  },
  "language_info": {
   "codemirror_mode": {
    "name": "ipython",
    "version": 3
   },
   "file_extension": ".py",
   "mimetype": "text/x-python",
   "name": "python",
   "nbconvert_exporter": "python",
   "pygments_lexer": "ipython3",
   "version": "3.8.10"
  }
 },
 "nbformat": 4,
 "nbformat_minor": 5
}
