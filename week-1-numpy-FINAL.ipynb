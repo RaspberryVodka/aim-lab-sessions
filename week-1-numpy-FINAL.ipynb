{
 "cells": [
  {
   "cell_type": "markdown",
   "id": "4d2c698f",
   "metadata": {},
   "source": [
    "# 1. Numpy \n",
    "Numpy is a powerful Python module that should be in the toolbelt of any AI/Deep learning practitioner. It provides functions and data strutctures that allow fast, efficient manipulation of mathematical structures like matrices and vectors. It represents these structures internally using Numpy arrays, which are like Python Lists, but highly optimised for calculations on large amounts of numerical data. Let's import this module now."
   ]
  },
  {
   "cell_type": "code",
   "execution_count": 1,
   "id": "a352c02e",
   "metadata": {},
   "outputs": [],
   "source": [
    "import numpy as np"
   ]
  },
  {
   "cell_type": "markdown",
   "id": "fe0a2fda",
   "metadata": {},
   "source": [
    "### 1.1.1 Array creation\n",
    "Numpy arrays can be created in a few different ways. Common ones are:\n",
    "1. Instantiated using values from a normal Python list\n",
    "2. Filled with sequential values upto a target number\n",
    "3. Filled with a specific value\n",
    "4. Filled with random values (various random distributions available) - see https://numpy.org/doc/stable/reference/random/index.html\n",
    "\n",
    "For a full list of array creation routines, please see: https://numpy.org/doc/stable/reference/routines.array-creation.html\n"
   ]
  },
  {
   "cell_type": "code",
   "execution_count": 2,
   "id": "cc36ef32",
   "metadata": {},
   "outputs": [
    {
     "name": "stdout",
     "output_type": "stream",
     "text": [
      "[   2    4    8   16   32   64  128  256  512 1024]\n"
     ]
    }
   ],
   "source": [
    "#Array creation from python list\n",
    "python_list = [2, 4, 8, 16, 32, 64, 128, 256, 512, 1024]\n",
    "np_from_list = np.array(python_list)  \n",
    "print(np_from_list)"
   ]
  },
  {
   "cell_type": "code",
   "execution_count": 3,
   "id": "0ccacf1d",
   "metadata": {},
   "outputs": [
    {
     "name": "stdout",
     "output_type": "stream",
     "text": [
      "[ 0  1  2  3  4  5  6  7  8  9 10 11 12 13 14 15 16 17 18 19]\n"
     ]
    }
   ],
   "source": [
    "# Array creation with sequential values \n",
    "# arange always returns a 1D array, will need to reshape it separately if\n",
    "# we wish to do so\n",
    "seq_array = np.arange(20)\n",
    "print(seq_array)"
   ]
  },
  {
   "cell_type": "code",
   "execution_count": 4,
   "id": "3b4a7775",
   "metadata": {},
   "outputs": [
    {
     "name": "stdout",
     "output_type": "stream",
     "text": [
      "[0.54055071 0.008152   0.56317885 0.84962779 0.10039291 0.58032141\n",
      " 0.14445078 0.89859919 0.62883073 0.18385217]\n"
     ]
    }
   ],
   "source": [
    "#Array creation with random values \n",
    "random_array = np.random.rand(10)  # returns an array filled with 10 random floats between 0 and 1\n",
    "print(random_array)"
   ]
  },
  {
   "cell_type": "code",
   "execution_count": 5,
   "id": "466cdcfd",
   "metadata": {},
   "outputs": [
    {
     "name": "stdout",
     "output_type": "stream",
     "text": [
      "[256 256 256 256 256 256 256 256 256 256]\n"
     ]
    }
   ],
   "source": [
    "#Array filled with the same specific value\n",
    "filled_array = np.full(10, 256)  # returns an array filled with 10 instances of 256\n",
    "print(filled_array)"
   ]
  },
  {
   "cell_type": "markdown",
   "id": "e92f617f",
   "metadata": {},
   "source": [
    "### 1.1.2 Reshaping arrays\n",
    "\n",
    "One of the many things that set Numpy arrays apart from Python lists is their `reshape` method. This allows you to define the number of dimensions that the structure represented by the array has. For example, the array `np_from_list` that we have just defined is just a flat list of numbers at the moment. `reshape` helps us represent it as a 2D data structure (a matrix). Keep in mind that the shape that you put into this method must agree with the number of elements in the array. In our example, the array has 10 elements, so acceptable shapes include:\n",
    "* 5, 2\n",
    "* 2, 5\n",
    "* 1, 10\n",
    "* 10, 1"
   ]
  },
  {
   "cell_type": "code",
   "execution_count": 6,
   "id": "e5e2f39c",
   "metadata": {},
   "outputs": [
    {
     "name": "stdout",
     "output_type": "stream",
     "text": [
      "[[   2    4]\n",
      " [   8   16]\n",
      " [  32   64]\n",
      " [ 128  256]\n",
      " [ 512 1024]]\n",
      "matrix_5_2 shape: (5, 2)\n"
     ]
    }
   ],
   "source": [
    "matrix_5_2 = np_from_list.reshape(5,2)\n",
    "print(matrix_5_2)\n",
    "print(f\"matrix_5_2 shape: {matrix_5_2.shape}\")"
   ]
  },
  {
   "cell_type": "code",
   "execution_count": 7,
   "id": "440acb3f",
   "metadata": {},
   "outputs": [
    {
     "name": "stdout",
     "output_type": "stream",
     "text": [
      "[[ 0  1  2  3  4  5  6  7  8  9]\n",
      " [10 11 12 13 14 15 16 17 18 19]]\n",
      "matrix_2_10 shape: (2, 10)\n"
     ]
    }
   ],
   "source": [
    "matrix_2_10 = seq_array.reshape(2,10)\n",
    "print(matrix_2_10)\n",
    "print(f\"matrix_2_10 shape: {matrix_2_10.shape}\")"
   ]
  },
  {
   "cell_type": "code",
   "execution_count": 14,
   "id": "593e21bd",
   "metadata": {},
   "outputs": [
    {
     "data": {
      "text/plain": [
       "array([[0.09645619, 0.67159924],\n",
       "       [0.74068637, 0.34299109],\n",
       "       [0.31642837, 0.97169424],\n",
       "       [0.94350288, 0.77766788],\n",
       "       [0.01909443, 0.94197917]])"
      ]
     },
     "execution_count": 14,
     "metadata": {},
     "output_type": "execute_result"
    }
   ],
   "source": [
    "# You can also pass a desired shape into the array creation function to instantiate\n",
    "# an array with a pre-defined shape\n",
    "array_from_shape = np.full(matrix_5_2.shape, 32)\n",
    "array_from_shape"
   ]
  },
  {
   "cell_type": "markdown",
   "id": "12c6fe44",
   "metadata": {},
   "source": [
    "### 1.1.3 Exercises"
   ]
  },
  {
   "cell_type": "code",
   "execution_count": null,
   "id": "15e3f2a2",
   "metadata": {},
   "outputs": [],
   "source": [
    "# Create a Numpy array A that contains the integers from 0 - 31 (32 elements long)\n",
    "A = np.arange(32)\n",
    "print(A)"
   ]
  },
  {
   "cell_type": "code",
   "execution_count": null,
   "id": "4a2bb139",
   "metadata": {},
   "outputs": [],
   "source": [
    "# Create a Numpy array B that contains 12 random numbers between 0 and 1\n",
    "B = np.random.rand(12)\n",
    "print(B)"
   ]
  },
  {
   "cell_type": "code",
   "execution_count": null,
   "id": "78fe6249",
   "metadata": {},
   "outputs": [],
   "source": [
    "# Turn A into a 2d matrix of shape (8, 4) - 8 rows, 4 columns\n",
    "A = A.reshape(8, 4)\n",
    "print(A)"
   ]
  },
  {
   "cell_type": "code",
   "execution_count": null,
   "id": "a6ff7049",
   "metadata": {},
   "outputs": [],
   "source": [
    "# Turn B into a 2d matrix of shape (4, 3)\n",
    "B = B.reshape(4, 3)\n",
    "print(B)"
   ]
  },
  {
   "cell_type": "markdown",
   "id": "e3e3ea19",
   "metadata": {},
   "source": [
    "## 1.2 Array operations\n",
    "Once you have created an array, there are various operations you may want to perform on them. We'll go through some of the most common ones in the next few cells.\n",
    "\n",
    "### 1.2.1 Binary operators\n",
    "Similar to normal counting numbers, Numpy arrays can be used as arguments to binary arithmetic operators like `*` (multiplication), `+` (addition), `-`(subtraction) and `/`(division). However, these can only be applied to arrays under certain conditions:\n",
    "1. The arrays have the same shape, OR\n",
    "2. The operation is between an array and a scalar, OR\n",
    "3. The operations is between 2 arrays of different shapes that can be \"broadcast\" together - more on this later\n",
    "\n",
    "These operations are applied **element-wise** meaning each element in the array is combined with its corresponding element at the same position in the other array"
   ]
  },
  {
   "cell_type": "code",
   "execution_count": null,
   "id": "d630c356",
   "metadata": {},
   "outputs": [],
   "source": [
    "# Addition with a scalar\n",
    "arr = np.random.rand(32).reshape(A.shape)\n",
    "scalar_add_array = 11 + arr \n",
    "print(scalar_add_array)"
   ]
  },
  {
   "cell_type": "code",
   "execution_count": null,
   "id": "b729a52e",
   "metadata": {},
   "outputs": [],
   "source": [
    "# Subtraction with another array of same shape\n",
    "sub_array = arr - A \n",
    "print(sub_array)"
   ]
  },
  {
   "cell_type": "code",
   "execution_count": null,
   "id": "d3454d04",
   "metadata": {},
   "outputs": [],
   "source": [
    "# Multiplication with another array of same shape\n",
    "mul_array = arr * A \n",
    "print(mul_array)"
   ]
  },
  {
   "cell_type": "code",
   "execution_count": null,
   "id": "9ae00ef0",
   "metadata": {},
   "outputs": [],
   "source": [
    "# Division by a scalar\n",
    "div_array = 11 / arr \n",
    "print(div_array)"
   ]
  },
  {
   "cell_type": "markdown",
   "id": "2e285677",
   "metadata": {},
   "source": [
    "### 1.2.2 Broadcasting\n",
    "As long as an array's dimensions are compatible with their counterparts in the other array, they can be \"broadcasted\" together. This means that numpy will 'strectch' the smaller dimension along its axis so that element-wise operations can be applied between them. In general, 2 arrays can be broadcast together if each dimension in one array is compatible with its counterpart in the other array. Dimensions are compatible if they are equal or one of them is equal to 1. The dimension of size 1 is expanded to fit the size of its counterpart [https://numpy.org/doc/stable/user/basics.broadcasting.html]"
   ]
  },
  {
   "cell_type": "code",
   "execution_count": null,
   "id": "be491c00",
   "metadata": {},
   "outputs": [],
   "source": [
    "array_4_1 = np.arange(4).reshape(4,1)\n",
    "print(array_4_1, array_4_1.shape)  \n",
    "\n",
    "# array_4_1 has shape (4, 1) so it can be broadcast to shape (4, 3) along B's horizontal axis\n",
    "# it's as if array_4_1 has been copied along the horizontal axis so that it can be added to B\n",
    "broadcasted = array_4_1 + B\n",
    "print(broadcasted, broadcasted.shape)"
   ]
  },
  {
   "cell_type": "code",
   "execution_count": null,
   "id": "8af7f502",
   "metadata": {},
   "outputs": [],
   "source": [
    "# Similarly, we can also broadcast an array of shape (1, 2) along B's vertical axis\n",
    "array_1_3 = np.arange(3).reshape(1,3)\n",
    "print(array_1_3, array_1_3.shape)\n",
    "\n",
    "broadcasted = array_1_3 * B\n",
    "print(broadcasted, broadcasted.shape)\n",
    "\n",
    "\n"
   ]
  },
  {
   "cell_type": "markdown",
   "id": "5cfde7f5",
   "metadata": {},
   "source": [
    "### 1.2.3 Array products\n",
    "Contrary to the `*` operator, which performs element-wise multiplication between the arrays, `np.matmul` is the matrix product of the arrays."
   ]
  },
  {
   "cell_type": "code",
   "execution_count": null,
   "id": "4a8b3147",
   "metadata": {},
   "outputs": [],
   "source": [
    "matmul_matrix = np.matmul(A, B)\n",
    "print(f\"A shape: {A.shape}, B shape: {B.shape}, AB shape: {matmul_matrix.shape}\")"
   ]
  },
  {
   "cell_type": "markdown",
   "id": "831fd3a9",
   "metadata": {},
   "source": [
    "### 1.2.4 Exercises"
   ]
  },
  {
   "cell_type": "code",
   "execution_count": null,
   "id": "24d10be1",
   "metadata": {},
   "outputs": [],
   "source": [
    "# Divide your array B by the number 2.5. Store the result in a variable C\n",
    "C = B / 2.5\n",
    "print(C)"
   ]
  },
  {
   "cell_type": "code",
   "execution_count": null,
   "id": "fd838cef",
   "metadata": {},
   "outputs": [],
   "source": [
    "# Create a new array filled with -1. The array must have the same shape as B. Store the result in a variable D\n",
    "D = np.full(12, -1).reshape(B.shape)\n",
    "print(D)"
   ]
  },
  {
   "cell_type": "code",
   "execution_count": null,
   "id": "ca07fea2",
   "metadata": {},
   "outputs": [],
   "source": [
    "# Multiply this new array ELEMENT-WISE with B and store the result in a variable called E.\n",
    "E = D * C\n",
    "print(E)"
   ]
  },
  {
   "cell_type": "code",
   "execution_count": null,
   "id": "44a6d38d",
   "metadata": {},
   "outputs": [],
   "source": [
    "# Consider the intermediate array below. Try and multiply it with D element-wise. What happens?\n",
    "intermediate_arr = np.arange(4).reshape(2, 2)\n",
    "print(intermediate_arr)"
   ]
  },
  {
   "cell_type": "code",
   "execution_count": null,
   "id": "d1d1025c",
   "metadata": {},
   "outputs": [],
   "source": [
    "# What could you do to make this multiplication work? (hint: try and make the intermediate array broadcastable to C)\n",
    "intermediate_arr = intermediate_arr.reshape(4, 1)\n",
    "F = E * intermediate_arr\n",
    "print(F)"
   ]
  },
  {
   "cell_type": "markdown",
   "id": "5f4be63d",
   "metadata": {},
   "source": [
    "## 1.3 Functions\n",
    "Another useful thing we might want to do with an array is to apply a function to each element. Generally speaking, it is best to use the built-in Numpy functions to work on numpy arrays instead of defining your own. This is because Numpy functions are highly optimised for speed, which is important when working with large amounts of data. Chances are, whatever kind of mathematical operation you want to perform on a Numpy array is already built in. See below for a full list:  \n",
    "https://numpy.org/doc/stable/reference/routines.math.html  \n",
    "\n",
    "### 1.3.1 Element-wise functions\n",
    "Common uses are applying trig functions to an array of values:"
   ]
  },
  {
   "cell_type": "code",
   "execution_count": null,
   "id": "0d99a1ba",
   "metadata": {},
   "outputs": [],
   "source": [
    "import matplotlib.pyplot as plt\n",
    "\n",
    "def simple_plot(x, y, label):\n",
    "    plt.plot(x, y)\n",
    "    plt.suptitle(label)\n",
    "    plt.show()\n",
    "\n",
    "    \n",
    "\n",
    "# Element-wise functions: \n",
    "G = np.arange(0, 2*np.pi, 0.2)\n",
    "H = np.sin(G)\n",
    "simple_plot(G, H, \"sin(G)\")\n",
    "\n",
    "H_1 = np.exp(G)\n",
    "simple_plot(G, H_1, \"exp(G)\")"
   ]
  },
  {
   "cell_type": "markdown",
   "id": "abc97f70",
   "metadata": {},
   "source": [
    "### 1.3.2 Reduce functions\n",
    "These are applied along the selected axis, consume all the elements and reduce the axis down to 1 element. If no axis is specified, the function is applied to the whole array, and reduces it to a scalar"
   ]
  },
  {
   "cell_type": "code",
   "execution_count": null,
   "id": "5d79e457",
   "metadata": {},
   "outputs": [],
   "source": [
    "print(A)\n",
    "\n",
    "I = A.max()\n",
    "print(f\"Maximum value in A: \\n{I}\")\n",
    "\n",
    "I_2 = np.mean(A, axis=0, keepdims=True)  # keepdims is needed to preserve the original shape of the axis\n",
    "print(f\"Average of each column in A: \\n{I_2}\")\n",
    "\n",
    "I_3 = A.min(axis=1, keepdims=True) \n",
    "print(f\"Minimum value in each row in A: \\n{I_3}\")\n"
   ]
  },
  {
   "cell_type": "markdown",
   "id": "a1dba217",
   "metadata": {},
   "source": [
    "### 1.3.3 Exercises\n"
   ]
  },
  {
   "cell_type": "code",
   "execution_count": null,
   "id": "7182d6d7",
   "metadata": {},
   "outputs": [],
   "source": [
    "# Have a look at the trigonometric functions listed in the official numpy documentation: https://numpy.org/doc/stable/reference/routines.math.html\n",
    "# Pick any element-wise function that takes 1 argument and apply it to the following array. store the result in a variable called Ys\n",
    "Xs = np.arange(-2*np.pi, 2*np.pi, 0.1)\n",
    "Ys = np.arctan(Xs)\n",
    "print(Ys)"
   ]
  },
  {
   "cell_type": "code",
   "execution_count": null,
   "id": "1960fdb3",
   "metadata": {},
   "outputs": [],
   "source": [
    "# Call our previously-defined simple plot function and display your result! Give the plot a suitable title\n",
    "simple_plot(Xs, Ys, \"sin(Xs)\")"
   ]
  },
  {
   "cell_type": "code",
   "execution_count": null,
   "id": "be85525e",
   "metadata": {},
   "outputs": [],
   "source": [
    "# Use a suitable Numpy reduce function to find the maximum value of your function's result\n",
    "max_val = np.max(Ys)\n",
    "print(max_val)"
   ]
  },
  {
   "cell_type": "markdown",
   "id": "c0e8b97e",
   "metadata": {},
   "source": [
    "## 1.4 numpy.where\n",
    "This allows us to conditionally modify the elements of an array, which can be useful for tasks like thresholding or masking."
   ]
  },
  {
   "cell_type": "code",
   "execution_count": null,
   "id": "25e1bea8",
   "metadata": {},
   "outputs": [],
   "source": [
    "big_image = np.arange(10*10).reshape(10,10)\n",
    "big_image_thresh = np.where(big_image<50, 0, big_image)\n",
    "big_image_thresh\n"
   ]
  },
  {
   "cell_type": "markdown",
   "id": "1cc76430",
   "metadata": {},
   "source": [
    "### 1.4.1 Exercises\n"
   ]
  },
  {
   "cell_type": "code",
   "execution_count": null,
   "id": "f6b1b4b7",
   "metadata": {},
   "outputs": [],
   "source": [
    "# Create a Numpy array of shape (10, 5) and fill it with random values between 0 and 1. Store it in a variable called J\n",
    "J = np.random.rand(10*5).reshape(10, 5)\n",
    "print(J)"
   ]
  },
  {
   "cell_type": "code",
   "execution_count": null,
   "id": "075bb3fe",
   "metadata": {},
   "outputs": [],
   "source": [
    "# Conditionally modify the array such that numbers below 0.5 are replaced with 0 and numbers above or equal to 0.5 are replaced with 1. Store the result in a variable called K\n",
    "K = np.where(J<0.5, 0, 1)\n",
    "print(K)"
   ]
  },
  {
   "cell_type": "markdown",
   "id": "1e67bef4",
   "metadata": {},
   "source": [
    "## 1.5 Practical example\n",
    "\n",
    "Putting everything together for a practical example, and visulalise the output of some Numpy operations"
   ]
  },
  {
   "cell_type": "code",
   "execution_count": null,
   "id": "053dfac8",
   "metadata": {},
   "outputs": [],
   "source": [
    "# Defining some helper functions\n",
    "def plot_point(point):\n",
    "    plt.rcParams[\"figure.figsize\"] = [3.50, 3.50]\n",
    "    plt.rcParams[\"figure.autolayout\"] = True\n",
    "    x = point[0]\n",
    "    y = point[1]\n",
    "    \n",
    "    lims = 3\n",
    "    fig = plt.figure()\n",
    "    ax = fig.add_subplot(111)\n",
    "    plt.xlim(-lims, lims)\n",
    "    plt.ylim(-lims, lims)\n",
    "    plt.grid()\n",
    "    ax.plot(x, y, marker=\"o\", markersize=7, markeredgecolor=\"black\", markerfacecolor=\"red\")\n",
    "    ax.spines['left'].set_position('zero')\n",
    "    ax.spines['right'].set_color('none')\n",
    "    ax.spines['bottom'].set_position('zero')\n",
    "    ax.spines['top'].set_color('none')\n",
    "    plt.show()\n",
    "\n",
    "\n",
    "\n",
    "# This function returns an np array that describes a 2d rotation \n",
    "# matrix [https://www1.udel.edu/biology/rosewc/kaap686/notes/matrices_rotations.pdf]. \n",
    "# These kinds of structures are often used in computer graphics to rotate and translate points in space\n",
    "def get_rot_clockwise_matrix(angle):\n",
    "    return np.array([\n",
    "        [ np.cos(angle), np.sin(angle)],\n",
    "        [-np.sin(angle), np.cos(angle)]\n",
    "    ])"
   ]
  },
  {
   "cell_type": "code",
   "execution_count": null,
   "id": "e5bedc69",
   "metadata": {},
   "outputs": [],
   "source": [
    "# Create a random 2-element array containing values from 0 - 1. Assign this array to a variable `p`\n",
    "p = np.random.rand(2) \n",
    "print(p)"
   ]
  },
  {
   "cell_type": "code",
   "execution_count": null,
   "id": "7d0beeac",
   "metadata": {},
   "outputs": [],
   "source": [
    "# Using scalar multiplication to double the value of the elements in `p`. Assign the result back to `p`\n",
    "p = 2 * p              # scale array \n",
    "print(p)"
   ]
  },
  {
   "cell_type": "code",
   "execution_count": null,
   "id": "7505696d",
   "metadata": {},
   "outputs": [],
   "source": [
    "# Reshape `p` to be (2, 1), assign the result to `p` and plot the point.\n",
    "p = p.reshape(2, 1)    \n",
    "plot_point(p)"
   ]
  },
  {
   "cell_type": "code",
   "execution_count": null,
   "id": "1937533d",
   "metadata": {},
   "outputs": [],
   "source": [
    "# We will now rotate this point about the origin of the plot using the funciton we defined above\n",
    "# This cell is just some setup for the rest of the exercise, just run it once\n",
    "min_angle = np.pi/2 # 90 degrees\n",
    "max_angle = np.pi   # 180 degrees\n",
    "angle = np.random.uniform(min_angle, max_angle) # get a random angle between 90 and 180 degrees\n",
    "print(np.degrees(angle)) # print the angle in degrees so we can check the rotation is correct!"
   ]
  },
  {
   "cell_type": "code",
   "execution_count": null,
   "id": "8b6c1dfa",
   "metadata": {},
   "outputs": [],
   "source": [
    "# Call the previously-defined roation matrix function with the angle. Assign the result to \n",
    "# a variable called `rot90`\n",
    "rot90 = get_rot_clockwise_matrix(angle)\n",
    "print(rot90)"
   ]
  },
  {
   "cell_type": "code",
   "execution_count": null,
   "id": "5f335523",
   "metadata": {},
   "outputs": [],
   "source": [
    "# Apply a matrix multiplication operation between rot90 and p. assign the result back to p and plot it.\n",
    "p = np.matmul(rot90, p)\n",
    "plot_point(p)"
   ]
  },
  {
   "cell_type": "code",
   "execution_count": null,
   "id": "65e93aeb",
   "metadata": {},
   "outputs": [],
   "source": [
    "# Create an array named `translation` which has the same shape as `p`, and fill it with 2's\n",
    "translation = np.full(p.shape, 2)\n",
    "print(translation)"
   ]
  },
  {
   "cell_type": "code",
   "execution_count": null,
   "id": "b8fa34fe",
   "metadata": {},
   "outputs": [],
   "source": [
    "# Add this result to p and plot it!\n",
    "p = p + translation \n",
    "plot_point(p)"
   ]
  }
 ],
 "metadata": {
  "kernelspec": {
   "display_name": "Python 3 (ipykernel)",
   "language": "python",
   "name": "python3"
  },
  "language_info": {
   "codemirror_mode": {
    "name": "ipython",
    "version": 3
   },
   "file_extension": ".py",
   "mimetype": "text/x-python",
   "name": "python",
   "nbconvert_exporter": "python",
   "pygments_lexer": "ipython3",
   "version": "3.8.10"
  }
 },
 "nbformat": 4,
 "nbformat_minor": 5
}
