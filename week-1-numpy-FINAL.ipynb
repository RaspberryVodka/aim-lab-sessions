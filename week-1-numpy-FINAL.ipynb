{
 "cells": [
  {
   "cell_type": "markdown",
   "id": "4d2c698f",
   "metadata": {},
   "source": [
    "# 1. Numpy \n",
    "Numpy is a powerful Python module that should be in the toolbelt of any AI/Deep learning practitioner. It provides functions and data strutctures that allow fast, efficient manipulation of mathematical structures like matrices and vectors. It represents these structures internally using Numpy arrays, which are like Python Lists, but highly optimised for calculations on large amounts of numerical data. Let's import this module now."
   ]
  },
  {
   "cell_type": "code",
   "execution_count": 1,
   "id": "a352c02e",
   "metadata": {},
   "outputs": [],
   "source": [
    "import numpy as np"
   ]
  },
  {
   "cell_type": "markdown",
   "id": "fe0a2fda",
   "metadata": {},
   "source": [
    "### 1.1.1 Array creation\n",
    "Numpy arrays can be created in a few different ways. Common ones are:\n",
    "1. Instantiated using values from a normal Python list\n",
    "2. Filled with sequential values upto a target number\n",
    "3. Filled with a specific value\n",
    "4. Filled with random values (various random distributions available) - see https://numpy.org/doc/stable/reference/random/index.html\n",
    "\n",
    "For a full list of array creation routines, please see: https://numpy.org/doc/stable/reference/routines.array-creation.html\n"
   ]
  },
  {
   "cell_type": "code",
   "execution_count": 2,
   "id": "cc36ef32",
   "metadata": {},
   "outputs": [
    {
     "name": "stdout",
     "output_type": "stream",
     "text": [
      "[   2    4    8   16   32   64  128  256  512 1024]\n"
     ]
    }
   ],
   "source": [
    "#Array creation from python list\n",
    "python_list = [2, 4, 8, 16, 32, 64, 128, 256, 512, 1024]\n",
    "np_from_list = np.array(python_list)  \n",
    "print(np_from_list)"
   ]
  },
  {
   "cell_type": "code",
   "execution_count": 3,
   "id": "0ccacf1d",
   "metadata": {},
   "outputs": [
    {
     "name": "stdout",
     "output_type": "stream",
     "text": [
      "[ 0  1  2  3  4  5  6  7  8  9 10 11 12 13 14 15 16 17 18 19]\n"
     ]
    }
   ],
   "source": [
    "# Array creation with sequential values \n",
    "# arange always returns a 1D array, will need to reshape it separately if\n",
    "# we wish to do so\n",
    "seq_array = np.arange(20)\n",
    "print(seq_array)"
   ]
  },
  {
   "cell_type": "code",
   "execution_count": 4,
   "id": "3b4a7775",
   "metadata": {},
   "outputs": [
    {
     "name": "stdout",
     "output_type": "stream",
     "text": [
      "[0.69393065 0.70835448 0.36477702 0.0266486  0.97799559 0.64913762\n",
      " 0.66777094 0.43760437 0.14295334 0.51138112]\n"
     ]
    }
   ],
   "source": [
    "#Array creation with random values \n",
    "random_array = np.random.rand(10)  # returns an array filled with 10 random floats between 0 and 1\n",
    "print(random_array)"
   ]
  },
  {
   "cell_type": "code",
   "execution_count": 5,
   "id": "466cdcfd",
   "metadata": {},
   "outputs": [
    {
     "name": "stdout",
     "output_type": "stream",
     "text": [
      "[256 256 256 256 256 256 256 256 256 256]\n"
     ]
    }
   ],
   "source": [
    "#Array filled with the same specific value\n",
    "filled_array = np.full(10, 256)  # returns an array filled with 10 instances of 256\n",
    "print(filled_array)"
   ]
  },
  {
   "cell_type": "markdown",
   "id": "e92f617f",
   "metadata": {},
   "source": [
    "### 1.1.2 Reshaping arrays\n",
    "\n",
    "One of the many things that set Numpy arrays apart from Python lists is their `reshape` method. This allows you to define the number of dimensions that the structure represented by the array has. For example, the array `np_from_list` that we have just defined is just a flat list of numbers at the moment. `reshape` helps us represent it as a 2D data structure (a matrix). Keep in mind that the shape that you put into this method must agree with the number of elements in the array. In our example, the array has 10 elements, so acceptable shapes include:\n",
    "* 5, 2\n",
    "* 2, 5\n",
    "* 1, 10\n",
    "* 10, 1"
   ]
  },
  {
   "cell_type": "code",
   "execution_count": 6,
   "id": "e5e2f39c",
   "metadata": {},
   "outputs": [
    {
     "name": "stdout",
     "output_type": "stream",
     "text": [
      "[[   2    4]\n",
      " [   8   16]\n",
      " [  32   64]\n",
      " [ 128  256]\n",
      " [ 512 1024]]\n",
      "matrix_5_2 shape: (5, 2)\n"
     ]
    }
   ],
   "source": [
    "matrix_5_2 = np_from_list.reshape(5,2)\n",
    "print(matrix_5_2)\n",
    "print(f\"matrix_5_2 shape: {matrix_5_2.shape}\")"
   ]
  },
  {
   "cell_type": "code",
   "execution_count": 7,
   "id": "440acb3f",
   "metadata": {},
   "outputs": [
    {
     "name": "stdout",
     "output_type": "stream",
     "text": [
      "[[ 0  1  2  3  4  5  6  7  8  9]\n",
      " [10 11 12 13 14 15 16 17 18 19]]\n",
      "matrix_2_10 shape: (2, 10)\n"
     ]
    }
   ],
   "source": [
    "matrix_2_10 = seq_array.reshape(2,10)\n",
    "print(matrix_2_10)\n",
    "print(f\"matrix_2_10 shape: {matrix_2_10.shape}\")"
   ]
  },
  {
   "cell_type": "code",
   "execution_count": 8,
   "id": "21c2f54b",
   "metadata": {},
   "outputs": [
    {
     "data": {
      "text/plain": [
       "array([[32, 32],\n",
       "       [32, 32],\n",
       "       [32, 32],\n",
       "       [32, 32],\n",
       "       [32, 32]])"
      ]
     },
     "execution_count": 8,
     "metadata": {},
     "output_type": "execute_result"
    }
   ],
   "source": [
    "# You can also pass a desired shape into the array creation function to instantiate\n",
    "# an array with a pre-defined shape\n",
    "array_from_shape = np.full(matrix_5_2.shape, 32)\n",
    "array_from_shape"
   ]
  },
  {
   "cell_type": "markdown",
   "id": "12c6fe44",
   "metadata": {},
   "source": [
    "### 1.1.3 Exercises"
   ]
  },
  {
   "cell_type": "code",
   "execution_count": 9,
   "id": "15e3f2a2",
   "metadata": {},
   "outputs": [
    {
     "name": "stdout",
     "output_type": "stream",
     "text": [
      "[ 0  1  2  3  4  5  6  7  8  9 10 11 12 13 14 15 16 17 18 19 20 21 22 23\n",
      " 24 25 26 27 28 29 30 31]\n"
     ]
    }
   ],
   "source": [
    "# Create a Numpy array A that contains the integers from 0 - 31 (32 elements long)\n",
    "A = np.arange(32)\n",
    "print(A)"
   ]
  },
  {
   "cell_type": "code",
   "execution_count": 10,
   "id": "4a2bb139",
   "metadata": {},
   "outputs": [
    {
     "name": "stdout",
     "output_type": "stream",
     "text": [
      "[0.88877185 0.99571253 0.95854705 0.32282859 0.6199809  0.09355119\n",
      " 0.35516377 0.08143722 0.28275582 0.35999331 0.89904374 0.0850714 ]\n"
     ]
    }
   ],
   "source": [
    "# Create a Numpy array B that contains 12 random numbers between 0 and 1\n",
    "B = np.random.rand(12)\n",
    "print(B)"
   ]
  },
  {
   "cell_type": "code",
   "execution_count": 11,
   "id": "78fe6249",
   "metadata": {},
   "outputs": [
    {
     "name": "stdout",
     "output_type": "stream",
     "text": [
      "[[ 0  1  2  3]\n",
      " [ 4  5  6  7]\n",
      " [ 8  9 10 11]\n",
      " [12 13 14 15]\n",
      " [16 17 18 19]\n",
      " [20 21 22 23]\n",
      " [24 25 26 27]\n",
      " [28 29 30 31]]\n"
     ]
    }
   ],
   "source": [
    "# Turn A into a 2d matrix of shape (8, 4) - 8 rows, 4 columns\n",
    "A = A.reshape(8, 4)\n",
    "print(A)"
   ]
  },
  {
   "cell_type": "code",
   "execution_count": 12,
   "id": "a6ff7049",
   "metadata": {},
   "outputs": [
    {
     "name": "stdout",
     "output_type": "stream",
     "text": [
      "[[0.88877185 0.99571253 0.95854705]\n",
      " [0.32282859 0.6199809  0.09355119]\n",
      " [0.35516377 0.08143722 0.28275582]\n",
      " [0.35999331 0.89904374 0.0850714 ]]\n"
     ]
    }
   ],
   "source": [
    "# Turn B into a 2d matrix of shape (4, 3)\n",
    "B = B.reshape(4, 3)\n",
    "print(B)"
   ]
  },
  {
   "cell_type": "markdown",
   "id": "e3e3ea19",
   "metadata": {},
   "source": [
    "## 1.2 Array operations\n",
    "Once you have created an array, there are various operations you may want to perform on them. We'll go through some of the most common ones in the next few cells.\n",
    "\n",
    "### 1.2.1 Binary operators\n",
    "Similar to normal counting numbers, Numpy arrays can be used as arguments to binary arithmetic operators like `*` (multiplication), `+` (addition), `-`(subtraction) and `/`(division). However, these can only be applied to arrays under certain conditions:\n",
    "1. The arrays have the same shape, OR\n",
    "2. The operation is between an array and a scalar, OR\n",
    "3. The operations is between 2 arrays of different shapes that can be \"broadcast\" together - more on this later\n",
    "\n",
    "These operations are applied **element-wise** meaning each element in the array is combined with its corresponding element at the same position in the other array"
   ]
  },
  {
   "cell_type": "code",
   "execution_count": 13,
   "id": "d630c356",
   "metadata": {},
   "outputs": [
    {
     "name": "stdout",
     "output_type": "stream",
     "text": [
      "[[11.6639161  11.84421754 11.98998752 11.22051019]\n",
      " [11.60896788 11.99025612 11.75852435 11.81783416]\n",
      " [11.77434086 11.27532718 11.08020302 11.02089782]\n",
      " [11.55745156 11.88161563 11.44436115 11.99272994]\n",
      " [11.65055798 11.60156735 11.41351032 11.8303117 ]\n",
      " [11.02162375 11.0821942  11.66096911 11.56373325]\n",
      " [11.48409357 11.38519278 11.42857738 11.1487166 ]\n",
      " [11.38614532 11.86189365 11.88832563 11.58429334]]\n"
     ]
    }
   ],
   "source": [
    "# Addition with a scalar\n",
    "arr = np.random.rand(32).reshape(A.shape)\n",
    "scalar_add_array = 11 + arr \n",
    "print(scalar_add_array)"
   ]
  },
  {
   "cell_type": "code",
   "execution_count": 14,
   "id": "b729a52e",
   "metadata": {},
   "outputs": [
    {
     "name": "stdout",
     "output_type": "stream",
     "text": [
      "[[  0.6639161   -0.15578246  -1.01001248  -2.77948981]\n",
      " [ -3.39103212  -4.00974388  -5.24147565  -6.18216584]\n",
      " [ -7.22565914  -8.72467282  -9.91979698 -10.97910218]\n",
      " [-11.44254844 -12.11838437 -13.55563885 -14.00727006]\n",
      " [-15.34944202 -16.39843265 -17.58648968 -18.1696883 ]\n",
      " [-19.97837625 -20.9178058  -21.33903089 -22.43626675]\n",
      " [-23.51590643 -24.61480722 -25.57142262 -26.8512834 ]\n",
      " [-27.61385468 -28.13810635 -29.11167437 -30.41570666]]\n"
     ]
    }
   ],
   "source": [
    "# Subtraction with another array of same shape\n",
    "sub_array = arr - A \n",
    "print(sub_array)"
   ]
  },
  {
   "cell_type": "code",
   "execution_count": 15,
   "id": "d3454d04",
   "metadata": {},
   "outputs": [
    {
     "name": "stdout",
     "output_type": "stream",
     "text": [
      "[[ 0.          0.84421754  1.97997504  0.66153057]\n",
      " [ 2.43587152  4.95128062  4.55114611  5.72483909]\n",
      " [ 6.19472686  2.47794462  0.80203024  0.22987602]\n",
      " [ 6.6894187  11.46100318  6.22105613 14.89094907]\n",
      " [10.40892767 10.22664496  7.44318579 15.77592228]\n",
      " [ 0.43247509  1.72607828 14.54132044 12.96586464]\n",
      " [11.61824561  9.62981959 11.14301191  4.01534817]\n",
      " [10.81206902 24.99491598 26.64976881 18.11309354]]\n"
     ]
    }
   ],
   "source": [
    "# Multiplication with another array of same shape\n",
    "mul_array = arr * A \n",
    "print(mul_array)"
   ]
  },
  {
   "cell_type": "code",
   "execution_count": 16,
   "id": "9ae00ef0",
   "metadata": {},
   "outputs": [
    {
     "name": "stdout",
     "output_type": "stream",
     "text": [
      "[[ 16.56835856  13.02981692  11.11125115  49.88431576]\n",
      " [ 18.06335005  11.10823728  14.50184162  13.45015971]\n",
      " [ 14.20563036  39.95246678 137.15193625 526.37068289]\n",
      " [ 19.73265629  12.47709277  24.75463919  11.08055633]\n",
      " [ 16.90856211  18.28556685  26.60151251  13.24803687]\n",
      " [508.69982111 133.82938816  16.64223005  19.51277504]\n",
      " [ 22.72287994  28.55712898  25.66631018  73.96618853]\n",
      " [ 28.4866846   12.76259541  12.38284663  18.82616017]]\n"
     ]
    }
   ],
   "source": [
    "# Division by a scalar\n",
    "div_array = 11 / arr \n",
    "print(div_array)"
   ]
  },
  {
   "cell_type": "markdown",
   "id": "2e285677",
   "metadata": {},
   "source": [
    "### 1.2.2 Broadcasting\n",
    "As long as an array's dimensions are compatible with their counterparts in the other array, they can be \"broadcasted\" together. This means that numpy will 'strectch' the smaller dimension along its axis so that element-wise operations can be applied between them. In general, 2 arrays can be broadcast together if each dimension in one array is compatible with its counterpart in the other array. Dimensions are compatible if they are equal or one of them is equal to 1. The dimension of size 1 is expanded to fit the size of its counterpart [https://numpy.org/doc/stable/user/basics.broadcasting.html]"
   ]
  },
  {
   "cell_type": "code",
   "execution_count": 17,
   "id": "be491c00",
   "metadata": {},
   "outputs": [
    {
     "name": "stdout",
     "output_type": "stream",
     "text": [
      "[[0]\n",
      " [1]\n",
      " [2]\n",
      " [3]] (4, 1)\n",
      "[[0.88877185 0.99571253 0.95854705]\n",
      " [1.32282859 1.6199809  1.09355119]\n",
      " [2.35516377 2.08143722 2.28275582]\n",
      " [3.35999331 3.89904374 3.0850714 ]] (4, 3)\n"
     ]
    }
   ],
   "source": [
    "array_4_1 = np.arange(4).reshape(4,1)\n",
    "print(array_4_1, array_4_1.shape)  \n",
    "\n",
    "# array_4_1 has shape (4, 1) so it can be broadcast to shape (4, 3) along B's horizontal axis\n",
    "# it's as if array_4_1 has been copied along the horizontal axis so that it can be added to B\n",
    "broadcasted = array_4_1 + B\n",
    "print(broadcasted, broadcasted.shape)"
   ]
  },
  {
   "cell_type": "code",
   "execution_count": 18,
   "id": "8af7f502",
   "metadata": {},
   "outputs": [
    {
     "name": "stdout",
     "output_type": "stream",
     "text": [
      "[[0 1 2]] (1, 3)\n",
      "[[0.         0.99571253 1.9170941 ]\n",
      " [0.         0.6199809  0.18710237]\n",
      " [0.         0.08143722 0.56551165]\n",
      " [0.         0.89904374 0.17014281]] (4, 3)\n"
     ]
    }
   ],
   "source": [
    "# Similarly, we can also broadcast an array of shape (1, 2) along B's vertical axis\n",
    "array_1_3 = np.arange(3).reshape(1,3)\n",
    "print(array_1_3, array_1_3.shape)\n",
    "\n",
    "broadcasted = array_1_3 * B\n",
    "print(broadcasted, broadcasted.shape)\n",
    "\n",
    "\n"
   ]
  },
  {
   "cell_type": "markdown",
   "id": "5cfde7f5",
   "metadata": {},
   "source": [
    "### 1.2.3 Array products\n",
    "Contrary to the `*` operator, which performs element-wise multiplication between the arrays, `np.matmul` is the matrix product of the arrays."
   ]
  },
  {
   "cell_type": "code",
   "execution_count": 19,
   "id": "4a8b3147",
   "metadata": {},
   "outputs": [
    {
     "name": "stdout",
     "output_type": "stream",
     "text": [
      "A shape: (8, 4), B shape: (4, 3), AB shape: (8, 3)\n"
     ]
    }
   ],
   "source": [
    "matmul_matrix = np.matmul(A, B)\n",
    "print(f\"A shape: {A.shape}, B shape: {B.shape}, AB shape: {matmul_matrix.shape}\")"
   ]
  },
  {
   "cell_type": "markdown",
   "id": "831fd3a9",
   "metadata": {},
   "source": [
    "### 1.2.4 Exercises"
   ]
  },
  {
   "cell_type": "code",
   "execution_count": 20,
   "id": "24d10be1",
   "metadata": {},
   "outputs": [
    {
     "name": "stdout",
     "output_type": "stream",
     "text": [
      "[[0.35550874 0.39828501 0.38341882]\n",
      " [0.12913144 0.24799236 0.03742047]\n",
      " [0.14206551 0.03257489 0.11310233]\n",
      " [0.14399732 0.3596175  0.03402856]]\n"
     ]
    }
   ],
   "source": [
    "# Divide your array B by the number 2.5. Store the result in a variable C\n",
    "C = B / 2.5\n",
    "print(C)"
   ]
  },
  {
   "cell_type": "code",
   "execution_count": 21,
   "id": "fd838cef",
   "metadata": {},
   "outputs": [
    {
     "name": "stdout",
     "output_type": "stream",
     "text": [
      "[[-1 -1 -1]\n",
      " [-1 -1 -1]\n",
      " [-1 -1 -1]\n",
      " [-1 -1 -1]]\n"
     ]
    }
   ],
   "source": [
    "# Create a new array filled with -1. The array must have the same shape as B. Store the result in a variable D\n",
    "D = np.full(12, -1).reshape(B.shape)\n",
    "print(D)"
   ]
  },
  {
   "cell_type": "code",
   "execution_count": 22,
   "id": "ca07fea2",
   "metadata": {},
   "outputs": [
    {
     "name": "stdout",
     "output_type": "stream",
     "text": [
      "[[-0.35550874 -0.39828501 -0.38341882]\n",
      " [-0.12913144 -0.24799236 -0.03742047]\n",
      " [-0.14206551 -0.03257489 -0.11310233]\n",
      " [-0.14399732 -0.3596175  -0.03402856]]\n"
     ]
    }
   ],
   "source": [
    "# Multiply this new array ELEMENT-WISE with B and store the result in a variable called E.\n",
    "E = D * C\n",
    "print(E)"
   ]
  },
  {
   "cell_type": "code",
   "execution_count": 23,
   "id": "44a6d38d",
   "metadata": {},
   "outputs": [
    {
     "name": "stdout",
     "output_type": "stream",
     "text": [
      "[[0 1]\n",
      " [2 3]]\n"
     ]
    }
   ],
   "source": [
    "# Consider the intermediate array below. Try and multiply it with D element-wise. What happens?\n",
    "intermediate_arr = np.arange(4).reshape(2, 2)\n",
    "print(intermediate_arr)"
   ]
  },
  {
   "cell_type": "code",
   "execution_count": 24,
   "id": "d1d1025c",
   "metadata": {},
   "outputs": [
    {
     "name": "stdout",
     "output_type": "stream",
     "text": [
      "[[-0.         -0.         -0.        ]\n",
      " [-0.12913144 -0.24799236 -0.03742047]\n",
      " [-0.28413101 -0.06514978 -0.22620466]\n",
      " [-0.43199197 -1.07885249 -0.10208568]]\n"
     ]
    }
   ],
   "source": [
    "# What could you do to make this multiplication work? (hint: try and make the intermediate array broadcastable to E)\n",
    "intermediate_arr = intermediate_arr.reshape(4, 1)\n",
    "F = E * intermediate_arr\n",
    "print(F)"
   ]
  },
  {
   "cell_type": "markdown",
   "id": "5f4be63d",
   "metadata": {},
   "source": [
    "## 1.3 Functions\n",
    "Another useful thing we might want to do with an array is to apply a function to each element. Generally speaking, it is best to use the built-in Numpy functions to work on numpy arrays instead of defining your own. This is because Numpy functions are highly optimised for speed, which is important when working with large amounts of data. Chances are, whatever kind of mathematical operation you want to perform on a Numpy array is already built in. See below for a full list:  \n",
    "https://numpy.org/doc/stable/reference/routines.math.html  \n",
    "\n",
    "### 1.3.1 Element-wise functions\n",
    "Common uses are applying trig functions to an array of values:"
   ]
  },
  {
   "cell_type": "code",
   "execution_count": 25,
   "id": "0d99a1ba",
   "metadata": {},
   "outputs": [
    {
     "data": {
      "image/png": "[encoded data removed]",
      "text/plain": [
       "<Figure size 640x480 with 1 Axes>"
      ]
     },
     "metadata": {},
     "output_type": "display_data"
    },
    {
     "data": {
      "image/png": "[encoded data removed]",
      "text/plain": [
       "<Figure size 640x480 with 1 Axes>"
      ]
     },
     "metadata": {},
     "output_type": "display_data"
    }
   ],
   "source": [
    "import matplotlib.pyplot as plt\n",
    "\n",
    "def simple_plot(x, y, label):\n",
    "    plt.plot(x, y)\n",
    "    plt.suptitle(label)\n",
    "    plt.show()\n",
    "\n",
    "    \n",
    "\n",
    "# Element-wise functions: \n",
    "X = np.arange(0, 2*np.pi, 0.2)\n",
    "Y = np.sin(X)\n",
    "simple_plot(X, Y, \"sin(X)\")\n",
    "\n",
    "Y_1 = np.exp(X)\n",
    "simple_plot(X, Y_1, \"exp(X)\")"
   ]
  },
  {
   "cell_type": "markdown",
   "id": "abc97f70",
   "metadata": {},
   "source": [
    "### 1.3.2 Reduce functions\n",
    "These are applied along the selected axis, consume all the elements and reduce the axis down to 1 element. If no axis is specified, the function is applied to the whole array, and reduces it to a scalar"
   ]
  },
  {
   "cell_type": "code",
   "execution_count": 26,
   "id": "5d79e457",
   "metadata": {},
   "outputs": [
    {
     "name": "stdout",
     "output_type": "stream",
     "text": [
      "[[ 0  1  2  3]\n",
      " [ 4  5  6  7]\n",
      " [ 8  9 10 11]\n",
      " [12 13 14 15]\n",
      " [16 17 18 19]\n",
      " [20 21 22 23]\n",
      " [24 25 26 27]\n",
      " [28 29 30 31]]\n",
      "Maximum value in A: \n",
      "31\n",
      "Average of each column in A: \n",
      "[[14. 15. 16. 17.]]\n",
      "Minimum value in each row in A: \n",
      "[[ 0]\n",
      " [ 4]\n",
      " [ 8]\n",
      " [12]\n",
      " [16]\n",
      " [20]\n",
      " [24]\n",
      " [28]]\n"
     ]
    }
   ],
   "source": [
    "print(A)\n",
    "\n",
    "I = A.max()\n",
    "print(f\"Maximum value in A: \\n{I}\")\n",
    "\n",
    "I_2 = np.mean(A, axis=0, keepdims=True)  # keepdims is needed to preserve the original shape of the axis\n",
    "print(f\"Average of each column in A: \\n{I_2}\")\n",
    "\n",
    "I_3 = A.min(axis=1, keepdims=True) \n",
    "print(f\"Minimum value in each row in A: \\n{I_3}\")\n"
   ]
  },
  {
   "cell_type": "markdown",
   "id": "a1dba217",
   "metadata": {},
   "source": [
    "### 1.3.3 Exercises\n"
   ]
  },
  {
   "cell_type": "code",
   "execution_count": 27,
   "id": "7182d6d7",
   "metadata": {},
   "outputs": [
    {
     "name": "stdout",
     "output_type": "stream",
     "text": [
      "[-1.41296514 -1.41045574 -1.40786597 -1.40519196 -1.40242955 -1.39957433\n",
      " -1.39662161 -1.39356634 -1.39040316 -1.38712631 -1.38372963 -1.3802065\n",
      " -1.37654982 -1.37275195 -1.36880468 -1.36469914 -1.36042576 -1.3559742\n",
      " -1.35133327 -1.34649084 -1.34143374 -1.33614764 -1.33061694 -1.32482464\n",
      " -1.31875212 -1.31237905 -1.3056831  -1.29863974 -1.29122197 -1.28340001\n",
      " -1.27514094 -1.26640829 -1.25716159 -1.24735578 -1.23694066 -1.22586009\n",
      " -1.2140512  -1.20144338 -1.18795716 -1.17350289 -1.15797921 -1.14127126\n",
      " -1.12324863 -1.10376302 -1.08264552 -1.0597036  -1.03471775 -1.00743785\n",
      " -0.97757955 -0.94482072 -0.90879876 -0.86910943 -0.82530874 -0.77691974\n",
      " -0.72344716 -0.66440366 -0.59935157 -0.527964   -0.4501056  -0.36592745\n",
      " -0.27595999 -0.18117656 -0.08299422  0.01681311  0.11628766  0.21351003\n",
      "  0.30681085  0.39491724  0.4770087   0.55269159  0.62192208  0.68491004\n",
      "  0.7420277   0.79373522  0.84052643  0.88289269  0.92130105  0.9561826\n",
      "  0.98792759  1.01688478  1.04336324  1.06763542  1.08994072  1.11048918\n",
      "  1.12946503  1.14702993  1.16332589  1.17847782  1.19259584  1.20577719\n",
      "  1.21810793  1.22966442  1.24051454  1.2507188   1.26033125  1.2694003\n",
      "  1.27796938  1.28607757  1.29376009  1.30104877  1.30797241  1.31455716\n",
      "  1.32082676  1.32680287  1.3325052   1.33795182  1.34315923  1.3481426\n",
      "  1.35291585  1.35749179  1.36188222  1.36609804  1.37014933  1.3740454\n",
      "  1.3777949   1.38140584  1.38488568  1.38824135  1.39147931  1.39460558\n",
      "  1.39762578  1.40054517  1.40336866  1.40610086  1.4087461   1.41130842]\n"
     ]
    }
   ],
   "source": [
    "# Have a look at the trigonometric functions listed in the official numpy documentation: https://numpy.org/doc/stable/reference/routines.math.html\n",
    "# Pick any element-wise function that takes 1 argument and apply it to the following array. store the result in a variable called Ys\n",
    "Xs = np.arange(-2*np.pi, 2*np.pi, 0.1)\n",
    "Ys = np.arctan(Xs)\n",
    "print(Ys)"
   ]
  },
  {
   "cell_type": "code",
   "execution_count": 28,
   "id": "1960fdb3",
   "metadata": {},
   "outputs": [
    {
     "data": {
      "image/png": "[encoded data removed]",
      "text/plain": [
       "<Figure size 640x480 with 1 Axes>"
      ]
     },
     "metadata": {},
     "output_type": "display_data"
    }
   ],
   "source": [
    "# Call our previously-defined simple plot function and display your result! Give the plot a suitable title\n",
    "simple_plot(Xs, Ys, \"sin(Xs)\")"
   ]
  },
  {
   "cell_type": "code",
   "execution_count": 29,
   "id": "be85525e",
   "metadata": {},
   "outputs": [
    {
     "name": "stdout",
     "output_type": "stream",
     "text": [
      "1.411308415679924\n"
     ]
    }
   ],
   "source": [
    "# Use a suitable Numpy reduce function to find the maximum value of your function's result\n",
    "max_val = np.max(Ys)\n",
    "print(max_val)"
   ]
  },
  {
   "cell_type": "markdown",
   "id": "c0e8b97e",
   "metadata": {},
   "source": [
    "## 1.4 numpy.where\n",
    "This allows us to conditionally modify the elements of an array, which can be useful for tasks like thresholding or masking."
   ]
  },
  {
   "cell_type": "code",
   "execution_count": 30,
   "id": "25e1bea8",
   "metadata": {},
   "outputs": [
    {
     "data": {
      "text/plain": [
       "array([[ 0,  0,  0,  0,  0,  0,  0,  0,  0,  0],\n",
       "       [ 0,  0,  0,  0,  0,  0,  0,  0,  0,  0],\n",
       "       [ 0,  0,  0,  0,  0,  0,  0,  0,  0,  0],\n",
       "       [ 0,  0,  0,  0,  0,  0,  0,  0,  0,  0],\n",
       "       [ 0,  0,  0,  0,  0,  0,  0,  0,  0,  0],\n",
       "       [50, 51, 52, 53, 54, 55, 56, 57, 58, 59],\n",
       "       [60, 61, 62, 63, 64, 65, 66, 67, 68, 69],\n",
       "       [70, 71, 72, 73, 74, 75, 76, 77, 78, 79],\n",
       "       [80, 81, 82, 83, 84, 85, 86, 87, 88, 89],\n",
       "       [90, 91, 92, 93, 94, 95, 96, 97, 98, 99]])"
      ]
     },
     "execution_count": 30,
     "metadata": {},
     "output_type": "execute_result"
    }
   ],
   "source": [
    "big_image = np.arange(10*10).reshape(10,10)\n",
    "big_image_thresh = np.where(big_image<50, 0, big_image)\n",
    "big_image_thresh\n"
   ]
  },
  {
   "cell_type": "markdown",
   "id": "1cc76430",
   "metadata": {},
   "source": [
    "### 1.4.1 Exercises\n"
   ]
  },
  {
   "cell_type": "code",
   "execution_count": 31,
   "id": "f6b1b4b7",
   "metadata": {},
   "outputs": [
    {
     "name": "stdout",
     "output_type": "stream",
     "text": [
      "[[0.92521215 0.10562083 0.97238387 0.78386739 0.38223739]\n",
      " [0.94300089 0.9906879  0.60057244 0.77377287 0.71192754]\n",
      " [0.43284078 0.54232322 0.91695558 0.11435424 0.19762251]\n",
      " [0.73800414 0.38827772 0.84184326 0.40358931 0.37125949]\n",
      " [0.10651078 0.82025305 0.71430366 0.62215436 0.07621908]\n",
      " [0.657089   0.85479707 0.8564165  0.48638476 0.57377409]\n",
      " [0.55252717 0.42157979 0.63678803 0.62814084 0.7448466 ]\n",
      " [0.38432587 0.21303709 0.44956722 0.44713205 0.13238345]\n",
      " [0.53357591 0.26063201 0.58725582 0.74767102 0.44731614]\n",
      " [0.35036442 0.95598783 0.77267761 0.4500801  0.38031018]]\n"
     ]
    }
   ],
   "source": [
    "# Create a Numpy array of shape (10, 5) and fill it with random values between 0 and 1. Store it in a variable called J\n",
    "J = np.random.rand(10*5).reshape(10, 5)\n",
    "print(J)"
   ]
  },
  {
   "cell_type": "code",
   "execution_count": 32,
   "id": "075bb3fe",
   "metadata": {},
   "outputs": [
    {
     "name": "stdout",
     "output_type": "stream",
     "text": [
      "[[1 0 1 1 0]\n",
      " [1 1 1 1 1]\n",
      " [0 1 1 0 0]\n",
      " [1 0 1 0 0]\n",
      " [0 1 1 1 0]\n",
      " [1 1 1 0 1]\n",
      " [1 0 1 1 1]\n",
      " [0 0 0 0 0]\n",
      " [1 0 1 1 0]\n",
      " [0 1 1 0 0]]\n"
     ]
    }
   ],
   "source": [
    "# Conditionally modify the array such that numbers below 0.5 are replaced with 0 and numbers above or equal to 0.5 are replaced with 1. Store the result in a variable called K\n",
    "K = np.where(J<0.5, 0, 1)\n",
    "print(K)"
   ]
  },
  {
   "cell_type": "markdown",
   "id": "1e67bef4",
   "metadata": {},
   "source": [
    "## 1.5 Practical example\n",
    "\n",
    "Putting everything together for a practical example, and visulalise the output of some Numpy operations"
   ]
  },
  {
   "cell_type": "code",
   "execution_count": 33,
   "id": "053dfac8",
   "metadata": {},
   "outputs": [],
   "source": [
    "# Defining some helper functions\n",
    "def plot_point(point):\n",
    "    plt.rcParams[\"figure.figsize\"] = [3.50, 3.50]\n",
    "    plt.rcParams[\"figure.autolayout\"] = True\n",
    "    x = point[0]\n",
    "    y = point[1]\n",
    "    \n",
    "    lims = 3\n",
    "    fig = plt.figure()\n",
    "    ax = fig.add_subplot(111)\n",
    "    plt.xlim(-lims, lims)\n",
    "    plt.ylim(-lims, lims)\n",
    "    plt.grid()\n",
    "    ax.plot(x, y, marker=\"o\", markersize=7, markeredgecolor=\"black\", markerfacecolor=\"red\")\n",
    "    ax.spines['left'].set_position('zero')\n",
    "    ax.spines['right'].set_color('none')\n",
    "    ax.spines['bottom'].set_position('zero')\n",
    "    ax.spines['top'].set_color('none')\n",
    "    plt.show()\n",
    "\n",
    "\n",
    "\n",
    "# This function returns an np array that describes a 2d rotation \n",
    "# matrix [https://www1.udel.edu/biology/rosewc/kaap686/notes/matrices_rotations.pdf]. \n",
    "# These kinds of structures are often used in computer graphics to rotate and translate points in space\n",
    "def get_rot_clockwise_matrix(angle):\n",
    "    return np.array([\n",
    "        [ np.cos(angle), np.sin(angle)],\n",
    "        [-np.sin(angle), np.cos(angle)]\n",
    "    ])"
   ]
  },
  {
   "cell_type": "code",
   "execution_count": 34,
   "id": "e5bedc69",
   "metadata": {},
   "outputs": [
    {
     "name": "stdout",
     "output_type": "stream",
     "text": [
      "[0.05967522 0.63495749]\n"
     ]
    }
   ],
   "source": [
    "# Create a random 2-element array containing values from 0 - 1. Assign this array to a variable `p`\n",
    "p = np.random.rand(2) \n",
    "print(p)"
   ]
  },
  {
   "cell_type": "code",
   "execution_count": 35,
   "id": "7d0beeac",
   "metadata": {},
   "outputs": [
    {
     "name": "stdout",
     "output_type": "stream",
     "text": [
      "[0.11935044 1.26991497]\n"
     ]
    }
   ],
   "source": [
    "# Using scalar multiplication to double the value of the elements in `p`. Assign the result back to `p`\n",
    "p = 2 * p              # scale array \n",
    "print(p)"
   ]
  },
  {
   "cell_type": "code",
   "execution_count": 36,
   "id": "7505696d",
   "metadata": {},
   "outputs": [
    {
     "data": {
      "image/png": "[encoded data removed]",
      "text/plain": [
       "<Figure size 350x350 with 1 Axes>"
      ]
     },
     "metadata": {},
     "output_type": "display_data"
    }
   ],
   "source": [
    "# Reshape `p` to be (2, 1), assign the result to `p` and plot the point.\n",
    "p = p.reshape(2, 1)    \n",
    "plot_point(p)"
   ]
  },
  {
   "cell_type": "code",
   "execution_count": 37,
   "id": "1937533d",
   "metadata": {},
   "outputs": [
    {
     "name": "stdout",
     "output_type": "stream",
     "text": [
      "174.22272361526203\n"
     ]
    }
   ],
   "source": [
    "# We will now rotate this point about the origin of the plot using the funciton we defined above\n",
    "# This cell is just some setup for the rest of the exercise, just run it once\n",
    "min_angle = np.pi/2 # 90 degrees\n",
    "max_angle = np.pi   # 180 degrees\n",
    "angle = np.random.uniform(min_angle, max_angle) # get a random angle between 90 and 180 degrees\n",
    "print(np.degrees(angle)) # print the angle in degrees so we can check the rotation is correct!"
   ]
  },
  {
   "cell_type": "code",
   "execution_count": 38,
   "id": "8b6c1dfa",
   "metadata": {},
   "outputs": [
    {
     "name": "stdout",
     "output_type": "stream",
     "text": [
      "[[-0.99492071  0.10066172]\n",
      " [-0.10066172 -0.99492071]]\n"
     ]
    }
   ],
   "source": [
    "# Call the previously-defined roation matrix function with the angle. Assign the result to \n",
    "# a variable called `rot90`\n",
    "rot90 = get_rot_clockwise_matrix(angle)\n",
    "print(rot90)"
   ]
  },
  {
   "cell_type": "code",
   "execution_count": 39,
   "id": "5f335523",
   "metadata": {},
   "outputs": [
    {
     "data": {
      "image/png": "[encoded data removed]",
      "text/plain": [
       "<Figure size 350x350 with 1 Axes>"
      ]
     },
     "metadata": {},
     "output_type": "display_data"
    }
   ],
   "source": [
    "# Apply a matrix multiplication operation between rot90 and p. assign the result back to p and plot it.\n",
    "p = np.matmul(rot90, p)\n",
    "plot_point(p)"
   ]
  },
  {
   "cell_type": "code",
   "execution_count": 40,
   "id": "65e93aeb",
   "metadata": {},
   "outputs": [
    {
     "name": "stdout",
     "output_type": "stream",
     "text": [
      "[[2]\n",
      " [2]]\n"
     ]
    }
   ],
   "source": [
    "# Create an array named `translation` which has the same shape as `p`, and fill it with 2's\n",
    "translation = np.full(p.shape, 2)\n",
    "print(translation)"
   ]
  },
  {
   "cell_type": "code",
   "execution_count": 41,
   "id": "b8fa34fe",
   "metadata": {},
   "outputs": [
    {
     "data": {
      "image/png": "[encoded data removed]",
      "text/plain": [
       "<Figure size 350x350 with 1 Axes>"
      ]
     },
     "metadata": {},
     "output_type": "display_data"
    }
   ],
   "source": [
    "# Add this result to p and plot it!\n",
    "p = p + translation \n",
    "plot_point(p)"
   ]
  }
 ],
 "metadata": {
  "kernelspec": {
   "display_name": "Python 3 (ipykernel)",
   "language": "python",
   "name": "python3"
  },
  "language_info": {
   "codemirror_mode": {
    "name": "ipython",
    "version": 3
   },
   "file_extension": ".py",
   "mimetype": "text/x-python",
   "name": "python",
   "nbconvert_exporter": "python",
   "pygments_lexer": "ipython3",
   "version": "3.8.10"
  }
 },
 "nbformat": 4,
 "nbformat_minor": 5
}
